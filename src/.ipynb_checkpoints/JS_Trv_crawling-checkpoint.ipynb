{
 "cells": [
  {
   "cell_type": "code",
   "execution_count": 43,
   "metadata": {
    "Collapsed": "false"
   },
   "outputs": [],
   "source": [
    "import os\n",
    "import json\n",
    "import requests\n",
    "import numpy as np\n",
    "import pandas as pd\n",
    "from tqdm import tqdm"
   ]
  },
  {
   "cell_type": "code",
   "execution_count": 184,
   "metadata": {
    "Collapsed": "false"
   },
   "outputs": [],
   "source": [
    "train = pd.read_csv(os.path.join('..', 'data', 'proc', 'raw_train.csv'))\n",
    "test = pd.read_csv(os.path.join('..', 'data', 'proc', 'raw_test.csv'))"
   ]
  },
  {
   "cell_type": "code",
   "execution_count": 185,
   "metadata": {
    "Collapsed": "false"
   },
   "outputs": [
    {
     "data": {
      "text/plain": [
       "(19715327, 12)"
      ]
     },
     "execution_count": 185,
     "metadata": {},
     "output_type": "execute_result"
    }
   ],
   "source": [
    "df = pd.concat([train, test], axis = 0)\n",
    "df.shape"
   ]
  },
  {
   "cell_type": "code",
   "execution_count": 186,
   "metadata": {
    "Collapsed": "false"
   },
   "outputs": [],
   "source": [
    "# reference가 item으로만 이뤄진 interaction 뽑기\n",
    "import re\n",
    "def findNum(x):\n",
    "    return re.sub(r'[ㄱ-ㅎ가-힣a-zA-Z,]', '@', x)"
   ]
  },
  {
   "cell_type": "code",
   "execution_count": 193,
   "metadata": {
    "Collapsed": "false"
   },
   "outputs": [
    {
     "data": {
      "text/plain": [
       "279        None\n",
       "282        None\n",
       "285        None\n",
       "286        None\n",
       "287        None\n",
       "           ... \n",
       "3759946    None\n",
       "3769502    None\n",
       "3769503    None\n",
       "3769509    None\n",
       "3769511    None\n",
       "Name: impressions, Length: 4439, dtype: object"
      ]
     },
     "execution_count": 193,
     "metadata": {},
     "output_type": "execute_result"
    }
   ],
   "source": [
    "seoul_hotel_list = []\n",
    "df.loc[(df['action_type'] == 'clickout item') & (df['city'] == 'Seoul, South Korea'), 'impressions'].apply(lambda x : seoul_hotel_list.extend(x.split('|')))"
   ]
  },
  {
   "cell_type": "code",
   "execution_count": 197,
   "metadata": {
    "Collapsed": "false"
   },
   "outputs": [],
   "source": [
    "seoul_hotel = df.loc[(df['city'] == 'Seoul, South Korea') & (df['reference'].notnull()), 'reference'].apply(lambda x : findNum(x))"
   ]
  },
  {
   "cell_type": "code",
   "execution_count": 198,
   "metadata": {
    "Collapsed": "false"
   },
   "outputs": [],
   "source": [
    "seoul_hotel = pd.DataFrame(seoul_hotel)"
   ]
  },
  {
   "cell_type": "code",
   "execution_count": 39,
   "metadata": {
    "Collapsed": "false"
   },
   "outputs": [],
   "source": [
    "seoul_hotel_list = seoul_hotel.loc[seoul_hotel['reference'].str.contains('@') == False].drop_duplicates().values"
   ]
  },
  {
   "cell_type": "code",
   "execution_count": null,
   "metadata": {
    "Collapsed": "false"
   },
   "outputs": [],
   "source": [
    "seoul_hotel_list = seoul_hotel_list + list(seoul_hotel.loc[seoul_hotel['reference'].str.contains('@') == False].drop_duplicates()['reference'].values)"
   ]
  },
  {
   "cell_type": "code",
   "execution_count": 5,
   "metadata": {
    "Collapsed": "false"
   },
   "outputs": [],
   "source": [
    "item = pd.read_csv(os.path.join('..', 'data', 'proc', 'item_metadata.csv'))"
   ]
  },
  {
   "cell_type": "code",
   "execution_count": 208,
   "metadata": {
    "Collapsed": "false"
   },
   "outputs": [],
   "source": [
    "seoul_hotel_list = list(set(seoul_hotel_list))"
   ]
  },
  {
   "cell_type": "code",
   "execution_count": 209,
   "metadata": {
    "Collapsed": "false"
   },
   "outputs": [
    {
     "data": {
      "text/plain": [
       "1803"
      ]
     },
     "execution_count": 209,
     "metadata": {},
     "output_type": "execute_result"
    }
   ],
   "source": [
    "len(seoul_hotel_list)"
   ]
  },
  {
   "cell_type": "code",
   "execution_count": 211,
   "metadata": {
    "Collapsed": "false"
   },
   "outputs": [],
   "source": [
    "temp = set(seoul_hotel_list) - set(item_dict.keys())"
   ]
  },
  {
   "cell_type": "code",
   "execution_count": 212,
   "metadata": {
    "Collapsed": "false"
   },
   "outputs": [
    {
     "data": {
      "text/plain": [
       "244"
      ]
     },
     "execution_count": 212,
     "metadata": {},
     "output_type": "execute_result"
    }
   ],
   "source": [
    "len(temp)"
   ]
  },
  {
   "cell_type": "code",
   "execution_count": 9,
   "metadata": {
    "Collapsed": "false"
   },
   "outputs": [],
   "source": [
    "headers = {\n",
    "    'user-agent': 'Mozilla/5.0 (Macintosh; Intel Mac OS X 10_15_5) AppleWebKit/537.36 (KHTML, like Gecko) Chrome/83.0.4103.116 Safari/537.36'\n",
    "}"
   ]
  },
  {
   "cell_type": "code",
   "execution_count": 213,
   "metadata": {
    "Collapsed": "false"
   },
   "outputs": [],
   "source": [
    "temp = list(temp)"
   ]
  },
  {
   "cell_type": "code",
   "execution_count": 214,
   "metadata": {
    "Collapsed": "false"
   },
   "outputs": [
    {
     "data": {
      "text/plain": [
       "['34321', '4714096', '5660026', '7796938', '5856434']"
      ]
     },
     "execution_count": 214,
     "metadata": {},
     "output_type": "execute_result"
    }
   ],
   "source": [
    "temp[:5]"
   ]
  },
  {
   "cell_type": "code",
   "execution_count": 215,
   "metadata": {
    "Collapsed": "false"
   },
   "outputs": [
    {
     "name": "stderr",
     "output_type": "stream",
     "text": [
      "100%|██████████| 244/244 [02:55<00:00,  1.39it/s]\n"
     ]
    }
   ],
   "source": [
    "for idx in tqdm(temp):\n",
    "    url = f'https://www.trivago.co.kr/api/v1/accommodation/{idx}/overview.json'\n",
    "    try:\n",
    "        response = requests.get(url, headers = headers)\n",
    "        item_dict[idx] = response.json()\n",
    "    except:\n",
    "        continue"
   ]
  },
  {
   "cell_type": "code",
   "execution_count": 216,
   "metadata": {
    "Collapsed": "false"
   },
   "outputs": [
    {
     "data": {
      "text/plain": [
       "1803"
      ]
     },
     "execution_count": 216,
     "metadata": {},
     "output_type": "execute_result"
    }
   ],
   "source": [
    "len(item_dict.keys())"
   ]
  },
  {
   "cell_type": "code",
   "execution_count": 217,
   "metadata": {
    "Collapsed": "false"
   },
   "outputs": [],
   "source": [
    "item_json = json.dumps(item_dict)"
   ]
  },
  {
   "cell_type": "code",
   "execution_count": 218,
   "metadata": {
    "Collapsed": "false"
   },
   "outputs": [],
   "source": [
    "with open(os.path.join('..', 'data', 'proc', 'seoul_hotel_info.json'), 'w') as f:\n",
    "    json.dump(item_json, f)"
   ]
  },
  {
   "cell_type": "markdown",
   "metadata": {
    "Collapsed": "false"
   },
   "source": [
    "# idx2item 사전 만들기"
   ]
  },
  {
   "cell_type": "code",
   "execution_count": 219,
   "metadata": {
    "Collapsed": "false"
   },
   "outputs": [],
   "source": [
    "seoul_hotel_list = list(item_dict.keys())"
   ]
  },
  {
   "cell_type": "code",
   "execution_count": 227,
   "metadata": {
    "Collapsed": "false"
   },
   "outputs": [],
   "source": [
    "item = pd.read_csv(os.path.join('..', 'data', 'proc', 'item_metadata.csv'), dtype = {'item_id' : str})"
   ]
  },
  {
   "cell_type": "code",
   "execution_count": 228,
   "metadata": {
    "Collapsed": "false"
   },
   "outputs": [],
   "source": [
    "item = item.merge(pd.DataFrame(seoul_hotel_list), left_on = 'item_id', right_on = 0, how = 'left')"
   ]
  },
  {
   "cell_type": "code",
   "execution_count": 229,
   "metadata": {
    "Collapsed": "false"
   },
   "outputs": [],
   "source": [
    "item.columns = ['item_id', 'properties', 'isvalid']"
   ]
  },
  {
   "cell_type": "code",
   "execution_count": 230,
   "metadata": {
    "Collapsed": "false"
   },
   "outputs": [],
   "source": [
    "item.loc[item['isvalid'].notnull(), 'isvalid'] = 1"
   ]
  },
  {
   "cell_type": "code",
   "execution_count": 231,
   "metadata": {
    "Collapsed": "false"
   },
   "outputs": [],
   "source": [
    "item.loc[item['isvalid'].isnull(), 'isvalid'] = 0"
   ]
  },
  {
   "cell_type": "code",
   "execution_count": 232,
   "metadata": {
    "Collapsed": "false"
   },
   "outputs": [],
   "source": [
    "item = item.sort_values('isvalid', ascending = False).reset_index(drop = True).reset_index()"
   ]
  },
  {
   "cell_type": "code",
   "execution_count": 233,
   "metadata": {
    "Collapsed": "false"
   },
   "outputs": [
    {
     "data": {
      "text/plain": [
       "1802"
      ]
     },
     "execution_count": 233,
     "metadata": {},
     "output_type": "execute_result"
    }
   ],
   "source": [
    "# 서울 호텔 개수 1802개\n",
    "item['isvalid'].sum()"
   ]
  },
  {
   "cell_type": "code",
   "execution_count": 234,
   "metadata": {
    "Collapsed": "false"
   },
   "outputs": [
    {
     "data": {
      "text/html": [
       "<div>\n",
       "<style scoped>\n",
       "    .dataframe tbody tr th:only-of-type {\n",
       "        vertical-align: middle;\n",
       "    }\n",
       "\n",
       "    .dataframe tbody tr th {\n",
       "        vertical-align: top;\n",
       "    }\n",
       "\n",
       "    .dataframe thead th {\n",
       "        text-align: right;\n",
       "    }\n",
       "</style>\n",
       "<table border=\"1\" class=\"dataframe\">\n",
       "  <thead>\n",
       "    <tr style=\"text-align: right;\">\n",
       "      <th></th>\n",
       "      <th>index</th>\n",
       "      <th>item_id</th>\n",
       "      <th>properties</th>\n",
       "      <th>isvalid</th>\n",
       "    </tr>\n",
       "  </thead>\n",
       "  <tbody>\n",
       "    <tr>\n",
       "      <th>0</th>\n",
       "      <td>0</td>\n",
       "      <td>2555968</td>\n",
       "      <td>From 2 Stars|Body Treatments|Family Friendly|B...</td>\n",
       "      <td>1</td>\n",
       "    </tr>\n",
       "    <tr>\n",
       "      <th>1</th>\n",
       "      <td>1</td>\n",
       "      <td>7264010</td>\n",
       "      <td>Hotel|Satisfactory Rating|Very Good Rating|Goo...</td>\n",
       "      <td>1</td>\n",
       "    </tr>\n",
       "    <tr>\n",
       "      <th>2</th>\n",
       "      <td>2</td>\n",
       "      <td>7146092</td>\n",
       "      <td>House / Apartment|Good Rating|Very Good Rating...</td>\n",
       "      <td>1</td>\n",
       "    </tr>\n",
       "    <tr>\n",
       "      <th>3</th>\n",
       "      <td>3</td>\n",
       "      <td>6523164</td>\n",
       "      <td>Laundry Service|Conference Rooms|WiFi (Public ...</td>\n",
       "      <td>1</td>\n",
       "    </tr>\n",
       "    <tr>\n",
       "      <th>4</th>\n",
       "      <td>4</td>\n",
       "      <td>2249496</td>\n",
       "      <td>WiFi (Public Areas)|Car Park|Luxury Hotel|Open...</td>\n",
       "      <td>1</td>\n",
       "    </tr>\n",
       "    <tr>\n",
       "      <th>...</th>\n",
       "      <td>...</td>\n",
       "      <td>...</td>\n",
       "      <td>...</td>\n",
       "      <td>...</td>\n",
       "    </tr>\n",
       "    <tr>\n",
       "      <th>927137</th>\n",
       "      <td>927137</td>\n",
       "      <td>5693154</td>\n",
       "      <td>House / Apartment</td>\n",
       "      <td>0</td>\n",
       "    </tr>\n",
       "    <tr>\n",
       "      <th>927138</th>\n",
       "      <td>927138</td>\n",
       "      <td>5694290</td>\n",
       "      <td>Resort</td>\n",
       "      <td>0</td>\n",
       "    </tr>\n",
       "    <tr>\n",
       "      <th>927139</th>\n",
       "      <td>927139</td>\n",
       "      <td>5697716</td>\n",
       "      <td>Restaurant|Hotel|Wheelchair Accessible|Air Con...</td>\n",
       "      <td>0</td>\n",
       "    </tr>\n",
       "    <tr>\n",
       "      <th>927140</th>\n",
       "      <td>927140</td>\n",
       "      <td>5699572</td>\n",
       "      <td>Hotel</td>\n",
       "      <td>0</td>\n",
       "    </tr>\n",
       "    <tr>\n",
       "      <th>927141</th>\n",
       "      <td>927141</td>\n",
       "      <td>11275316</td>\n",
       "      <td>Hotel</td>\n",
       "      <td>0</td>\n",
       "    </tr>\n",
       "  </tbody>\n",
       "</table>\n",
       "<p>927142 rows × 4 columns</p>\n",
       "</div>"
      ],
      "text/plain": [
       "         index   item_id                                         properties  \\\n",
       "0            0   2555968  From 2 Stars|Body Treatments|Family Friendly|B...   \n",
       "1            1   7264010  Hotel|Satisfactory Rating|Very Good Rating|Goo...   \n",
       "2            2   7146092  House / Apartment|Good Rating|Very Good Rating...   \n",
       "3            3   6523164  Laundry Service|Conference Rooms|WiFi (Public ...   \n",
       "4            4   2249496  WiFi (Public Areas)|Car Park|Luxury Hotel|Open...   \n",
       "...        ...       ...                                                ...   \n",
       "927137  927137   5693154                                  House / Apartment   \n",
       "927138  927138   5694290                                             Resort   \n",
       "927139  927139   5697716  Restaurant|Hotel|Wheelchair Accessible|Air Con...   \n",
       "927140  927140   5699572                                              Hotel   \n",
       "927141  927141  11275316                                              Hotel   \n",
       "\n",
       "       isvalid  \n",
       "0            1  \n",
       "1            1  \n",
       "2            1  \n",
       "3            1  \n",
       "4            1  \n",
       "...        ...  \n",
       "927137       0  \n",
       "927138       0  \n",
       "927139       0  \n",
       "927140       0  \n",
       "927141       0  \n",
       "\n",
       "[927142 rows x 4 columns]"
      ]
     },
     "execution_count": 234,
     "metadata": {},
     "output_type": "execute_result"
    }
   ],
   "source": [
    "item"
   ]
  },
  {
   "cell_type": "code",
   "execution_count": 235,
   "metadata": {
    "Collapsed": "false"
   },
   "outputs": [
    {
     "name": "stderr",
     "output_type": "stream",
     "text": [
      "100%|██████████| 927142/927142 [00:01<00:00, 643860.10it/s]\n"
     ]
    }
   ],
   "source": [
    "a = []\n",
    "for idx in tqdm(item['item_id']):\n",
    "    try:\n",
    "        a.append(item_dict[idx]['accommodation']['address'].get('locality', None))\n",
    "    except:\n",
    "        a.append('없음')"
   ]
  },
  {
   "cell_type": "code",
   "execution_count": 236,
   "metadata": {
    "Collapsed": "false"
   },
   "outputs": [],
   "source": [
    "item['city'] = a"
   ]
  },
  {
   "cell_type": "code",
   "execution_count": 237,
   "metadata": {
    "Collapsed": "false"
   },
   "outputs": [
    {
     "data": {
      "text/plain": [
       "없음       211\n",
       "인천        29\n",
       "멕시코시티     22\n",
       "김포        11\n",
       "부천         9\n",
       "고양         8\n",
       "성남         6\n",
       "부산         6\n",
       "안양         5\n",
       "구리         1\n",
       "남양주        1\n",
       "마사틀란       1\n",
       "의정부        1\n",
       "도쿄         1\n",
       "대전         1\n",
       "Oita       1\n",
       "경주         1\n",
       "마드리드       1\n",
       "아카풀코       1\n",
       "Name: city, dtype: int64"
      ]
     },
     "execution_count": 237,
     "metadata": {},
     "output_type": "execute_result"
    }
   ],
   "source": [
    "# clickout 'city'가 seoul + impressions 인데 locality가 서울로 명시되어 있지 않는 행들\n",
    "item.loc[(item['city'] != '서울') & (item['isvalid'] == 1), 'city'].value_counts()"
   ]
  },
  {
   "cell_type": "code",
   "execution_count": 238,
   "metadata": {
    "Collapsed": "false"
   },
   "outputs": [],
   "source": [
    "item.loc[(item['city'] != '서울') & (item['isvalid'] == 1), 'isvalid'] = 0"
   ]
  },
  {
   "cell_type": "code",
   "execution_count": 239,
   "metadata": {
    "Collapsed": "false"
   },
   "outputs": [],
   "source": [
    "item = item.sort_values('isvalid', ascending = False)"
   ]
  },
  {
   "cell_type": "code",
   "execution_count": 240,
   "metadata": {
    "Collapsed": "false"
   },
   "outputs": [
    {
     "data": {
      "text/plain": [
       "1485"
      ]
     },
     "execution_count": 240,
     "metadata": {},
     "output_type": "execute_result"
    }
   ],
   "source": [
    "# 서울 호텔 1485개로 진행\n",
    "item['isvalid'].sum()"
   ]
  },
  {
   "cell_type": "code",
   "execution_count": 244,
   "metadata": {
    "Collapsed": "false"
   },
   "outputs": [],
   "source": [
    "item = item.reset_index(drop = True).reset_index().drop('index', axis = 1).rename(columns = {'level_0' : 'item_idx'})[['item_idx', 'item_id']]"
   ]
  },
  {
   "cell_type": "code",
   "execution_count": 245,
   "metadata": {
    "Collapsed": "false"
   },
   "outputs": [],
   "source": [
    "idx2item = item.to_dict()['item_id']"
   ]
  },
  {
   "cell_type": "code",
   "execution_count": 246,
   "metadata": {
    "Collapsed": "false"
   },
   "outputs": [],
   "source": [
    "item2idx = {i : j for j,i in idx2item.items()}"
   ]
  },
  {
   "cell_type": "code",
   "execution_count": 247,
   "metadata": {
    "Collapsed": "false"
   },
   "outputs": [],
   "source": [
    "import joblib"
   ]
  },
  {
   "cell_type": "code",
   "execution_count": 248,
   "metadata": {
    "Collapsed": "false"
   },
   "outputs": [
    {
     "data": {
      "text/plain": [
       "['dict4sas.pkl']"
      ]
     },
     "execution_count": 248,
     "metadata": {},
     "output_type": "execute_result"
    }
   ],
   "source": [
    "joblib.dump({\n",
    "    'idx2item' : idx2item,\n",
    "    'item2idx' : item2idx\n",
    "}, 'dict4sas.pkl')"
   ]
  },
  {
   "cell_type": "markdown",
   "metadata": {
    "Collapsed": "false"
   },
   "source": [
    "# 최종데이터 추출"
   ]
  },
  {
   "cell_type": "code",
   "execution_count": 249,
   "metadata": {
    "Collapsed": "false"
   },
   "outputs": [
    {
     "data": {
      "text/plain": [
       "(948041, 434873)"
      ]
     },
     "execution_count": 249,
     "metadata": {},
     "output_type": "execute_result"
    }
   ],
   "source": [
    "# 전체데이터에서 user는 94만명\n",
    "# 전체데이터에서 item은 43만개\n",
    "df['user_id'].nunique(), df['reference'].nunique()"
   ]
  },
  {
   "cell_type": "code",
   "execution_count": 250,
   "metadata": {
    "Collapsed": "false"
   },
   "outputs": [],
   "source": [
    "df = df.loc[df['action_type'] == 'clickout item', ['user_id', 'reference', 'timestamp']].reset_index(drop = True).sort_values(['user_id', 'timestamp'])"
   ]
  },
  {
   "cell_type": "code",
   "execution_count": 252,
   "metadata": {
    "Collapsed": "false"
   },
   "outputs": [],
   "source": [
    "# reference가 비어있는 row -> test로 사용할 예정\n",
    "test = df.loc[df['reference'].isnull()]\n",
    "df = df.loc[df['reference'].notnull()]"
   ]
  },
  {
   "cell_type": "code",
   "execution_count": 253,
   "metadata": {
    "Collapsed": "false"
   },
   "outputs": [
    {
     "data": {
      "text/plain": [
       "(1861792, 3)"
      ]
     },
     "execution_count": 253,
     "metadata": {},
     "output_type": "execute_result"
    }
   ],
   "source": [
    "df.shape"
   ]
  },
  {
   "cell_type": "code",
   "execution_count": 254,
   "metadata": {
    "Collapsed": "false"
   },
   "outputs": [],
   "source": [
    "df = df.merge(df.groupby('user_id')['reference'].count().reset_index(), on = 'user_id', how = 'left')"
   ]
  },
  {
   "cell_type": "code",
   "execution_count": 256,
   "metadata": {
    "Collapsed": "false"
   },
   "outputs": [],
   "source": [
    "tb = df.loc[df['reference_y'] > 2][['user_id', 'reference_x']]"
   ]
  },
  {
   "cell_type": "code",
   "execution_count": 270,
   "metadata": {
    "Collapsed": "false"
   },
   "outputs": [],
   "source": [
    "tb['item_idx'] = tb['reference_x'].apply(lambda x : str(item2idx.get(x, None)))"
   ]
  },
  {
   "cell_type": "code",
   "execution_count": 282,
   "metadata": {
    "Collapsed": "false"
   },
   "outputs": [],
   "source": [
    "tb = tb.loc[tb['item_idx'] != 'None']"
   ]
  },
  {
   "cell_type": "code",
   "execution_count": 287,
   "metadata": {
    "Collapsed": "false"
   },
   "outputs": [],
   "source": [
    "idx2user = tb['user_id'].drop_duplicates().reset_index(drop= True).to_dict()\n",
    "user2idx = {i : j for j,i in idx2user.items()}"
   ]
  },
  {
   "cell_type": "code",
   "execution_count": 290,
   "metadata": {
    "Collapsed": "false"
   },
   "outputs": [
    {
     "name": "stderr",
     "output_type": "stream",
     "text": [
      "/Users/jinseok/opt/anaconda3/lib/python3.7/site-packages/ipykernel_launcher.py:1: SettingWithCopyWarning: \n",
      "A value is trying to be set on a copy of a slice from a DataFrame.\n",
      "Try using .loc[row_indexer,col_indexer] = value instead\n",
      "\n",
      "See the caveats in the documentation: https://pandas.pydata.org/pandas-docs/stable/user_guide/indexing.html#returning-a-view-versus-a-copy\n",
      "  \"\"\"Entry point for launching an IPython kernel.\n"
     ]
    }
   ],
   "source": [
    "tb['user_idx'] = tb['user_id'].apply(lambda x : str(user2idx.get(x, None)))"
   ]
  },
  {
   "cell_type": "code",
   "execution_count": 293,
   "metadata": {
    "Collapsed": "false"
   },
   "outputs": [],
   "source": [
    "tb = tb[['user_idx', 'item_idx']]"
   ]
  },
  {
   "cell_type": "code",
   "execution_count": 294,
   "metadata": {
    "Collapsed": "false"
   },
   "outputs": [],
   "source": [
    "tb.to_csv(os.path.join('..', 'data', 'proc', 'data_trv.csv'), header = None, index = False)"
   ]
  },
  {
   "cell_type": "code",
   "execution_count": 295,
   "metadata": {
    "Collapsed": "false"
   },
   "outputs": [
    {
     "data": {
      "text/plain": [
       "['../data/proc/dict4sas.pkl']"
      ]
     },
     "execution_count": 295,
     "metadata": {},
     "output_type": "execute_result"
    }
   ],
   "source": [
    "joblib.dump({\n",
    "    'idx2item' : idx2item,\n",
    "    'item2idx' : item2idx,\n",
    "    'idx2user' : idx2user,\n",
    "    'user2idx' : user2idx,\n",
    "}, os.path.join('..', 'data', 'proc', 'dict4sas.pkl'))"
   ]
  },
  {
   "cell_type": "code",
   "execution_count": 298,
   "metadata": {
    "Collapsed": "false"
   },
   "outputs": [
    {
     "data": {
      "text/plain": [
       "(199580, 220098)"
      ]
     },
     "execution_count": 298,
     "metadata": {},
     "output_type": "execute_result"
    }
   ],
   "source": [
    "# user 19만9천580명\n",
    "# item 22만98개\n",
    "tb['user_idx'].nunique(), tb['item_idx'].nunique()"
   ]
  },
  {
   "cell_type": "code",
   "execution_count": null,
   "metadata": {
    "Collapsed": "false"
   },
   "outputs": [],
   "source": [
    "# 서울 호텔은 1485개"
   ]
  },
  {
   "cell_type": "code",
   "execution_count": 300,
   "metadata": {
    "Collapsed": "false"
   },
   "outputs": [
    {
     "data": {
      "text/plain": [
       "(199580, 927142)"
      ]
     },
     "execution_count": 300,
     "metadata": {},
     "output_type": "execute_result"
    }
   ],
   "source": [
    "len(user2idx.keys()), len(item2idx.keys())"
   ]
  },
  {
   "cell_type": "code",
   "execution_count": null,
   "metadata": {
    "Collapsed": "false"
   },
   "outputs": [],
   "source": []
  }
 ],
 "metadata": {
  "kernelspec": {
   "display_name": "Python 3",
   "language": "python",
   "name": "python3"
  },
  "language_info": {
   "codemirror_mode": {
    "name": "ipython",
    "version": 3
   },
   "file_extension": ".py",
   "mimetype": "text/x-python",
   "name": "python",
   "nbconvert_exporter": "python",
   "pygments_lexer": "ipython3",
   "version": "3.7.6"
  }
 },
 "nbformat": 4,
 "nbformat_minor": 4
}
