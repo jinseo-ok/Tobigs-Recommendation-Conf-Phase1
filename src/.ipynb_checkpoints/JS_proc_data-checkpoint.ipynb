{
 "cells": [
  {
   "cell_type": "code",
   "execution_count": 491,
   "metadata": {
    "Collapsed": "false"
   },
   "outputs": [],
   "source": [
    "import os\n",
    "import numpy as np\n",
    "import pandas as pd\n",
    "from tqdm import tqdm"
   ]
  },
  {
   "cell_type": "code",
   "execution_count": 237,
   "metadata": {
    "Collapsed": "false"
   },
   "outputs": [],
   "source": [
    "train = pd.read_csv(os.path.join('..', 'data', 'proc', 'train.csv'))\n",
    "test = pd.read_csv(os.path.join('..', 'data', 'proc', 'test.csv'))"
   ]
  },
  {
   "cell_type": "code",
   "execution_count": 674,
   "metadata": {
    "Collapsed": "false"
   },
   "outputs": [],
   "source": [
    "item_meta = pd.read_csv(os.path.join('..', 'data', 'proc', 'item_metadata.csv'))"
   ]
  },
  {
   "cell_type": "code",
   "execution_count": 238,
   "metadata": {
    "Collapsed": "false"
   },
   "outputs": [],
   "source": [
    "# 행동 순서를 파악하기 위한 시간 설정\n",
    "train['dt'] = train['dt'].astype('datetime64')\n",
    "test['dt'] = test['dt'].astype('datetime64')"
   ]
  },
  {
   "cell_type": "code",
   "execution_count": 254,
   "metadata": {
    "Collapsed": "false"
   },
   "outputs": [],
   "source": [
    "item = item_meta['item_id'].reset_index().rename(columns = {'index' : 'item_idx'})"
   ]
  },
  {
   "cell_type": "markdown",
   "metadata": {
    "Collapsed": "false"
   },
   "source": [
    "# click_out만 뽑기"
   ]
  },
  {
   "cell_type": "code",
   "execution_count": 358,
   "metadata": {
    "Collapsed": "false"
   },
   "outputs": [],
   "source": [
    "tr = train.loc[train['action_type'] == 'clickout item'].sort_values(['user_id', 'timestamp'])[['user_id', 'reference', 'timestamp']]\n",
    "te = test.loc[test['action_type'] == 'clickout item'].sort_values(['user_id', 'timestamp'])[['user_id', 'reference', 'timestamp']]"
   ]
  },
  {
   "cell_type": "code",
   "execution_count": 359,
   "metadata": {
    "Collapsed": "false"
   },
   "outputs": [],
   "source": [
    "te_notnull = te.loc[te['reference'].notnull()]"
   ]
  },
  {
   "cell_type": "code",
   "execution_count": 403,
   "metadata": {
    "Collapsed": "false"
   },
   "outputs": [],
   "source": [
    "interactions_click = pd.concat([tr, te_notnull], axis = 0)"
   ]
  },
  {
   "cell_type": "code",
   "execution_count": 404,
   "metadata": {
    "Collapsed": "false"
   },
   "outputs": [
    {
     "data": {
      "text/plain": [
       "(885469, 3)"
      ]
     },
     "execution_count": 404,
     "metadata": {},
     "output_type": "execute_result"
    }
   ],
   "source": [
    "interactions_click.shape"
   ]
  },
  {
   "cell_type": "code",
   "execution_count": 405,
   "metadata": {
    "Collapsed": "false"
   },
   "outputs": [],
   "source": [
    "interactions_click = interactions_click.sort_values(['user_id', 'timestamp']).reset_index(drop = True)[['user_id', 'reference']]"
   ]
  },
  {
   "cell_type": "code",
   "execution_count": 311,
   "metadata": {
    "Collapsed": "false"
   },
   "outputs": [],
   "source": [
    "user = interactions_click['user_id'].drop_duplicates().reset_index(drop = True).reset_index().rename(columns = {'index' : 'user_idx'})"
   ]
  },
  {
   "cell_type": "code",
   "execution_count": 406,
   "metadata": {
    "Collapsed": "false"
   },
   "outputs": [],
   "source": [
    "interactions_click = (interactions_click\n",
    "                      .merge(user, on = 'user_id', how = 'left')\n",
    "                      .merge(item, left_on = 'reference', right_on = 'item_id', how = 'left')\n",
    "                      .drop(['user_id', 'reference', 'item_id'], axis = 1)\n",
    "                     )"
   ]
  },
  {
   "cell_type": "code",
   "execution_count": 407,
   "metadata": {
    "Collapsed": "false"
   },
   "outputs": [],
   "source": [
    "interactions_click = interactions_click.loc[interactions_click['item_idx'].notnull()]"
   ]
  },
  {
   "cell_type": "code",
   "execution_count": 408,
   "metadata": {
    "Collapsed": "false"
   },
   "outputs": [],
   "source": [
    "interactions_click.to_csv('trv_click.txt', index=False, header=None, sep=\"\\t\")"
   ]
  },
  {
   "cell_type": "code",
   "execution_count": 414,
   "metadata": {
    "Collapsed": "false"
   },
   "outputs": [
    {
     "data": {
      "text/plain": [
       "927134"
      ]
     },
     "execution_count": 414,
     "metadata": {},
     "output_type": "execute_result"
    }
   ],
   "source": [
    "interactions_click['item_idx'].astype(int).max()"
   ]
  },
  {
   "cell_type": "code",
   "execution_count": 333,
   "metadata": {
    "Collapsed": "false"
   },
   "outputs": [],
   "source": [
    "idx2user = user.drop('user_idx', axis = 1).to_dict()['user_id']\n",
    "user2idx = {j:i for i,j in idx2user.items()}"
   ]
  },
  {
   "cell_type": "code",
   "execution_count": 337,
   "metadata": {
    "Collapsed": "false"
   },
   "outputs": [],
   "source": [
    "idx2item = item.drop('item_idx', axis = 1).to_dict()['item_id']\n",
    "item2idx = {j:i for i,j in idx2item.items()}"
   ]
  },
  {
   "cell_type": "code",
   "execution_count": 339,
   "metadata": {
    "Collapsed": "false"
   },
   "outputs": [
    {
     "data": {
      "text/plain": [
       "['dic4sas.pkl']"
      ]
     },
     "execution_count": 339,
     "metadata": {},
     "output_type": "execute_result"
    }
   ],
   "source": [
    "import joblib\n",
    "data = {\n",
    "    'idx2user' : idx2user,\n",
    "    'user2idx' : user2idx,\n",
    "    'idx2item' : idx2item,\n",
    "    'item2idx' : item2idx\n",
    "}\n",
    "joblib.dump(data, 'dic4sas.pkl')"
   ]
  },
  {
   "cell_type": "markdown",
   "metadata": {
    "Collapsed": "false"
   },
   "source": [
    "# interaction 모두 뽑기"
   ]
  },
  {
   "cell_type": "code",
   "execution_count": 340,
   "metadata": {
    "Collapsed": "false"
   },
   "outputs": [],
   "source": [
    "# reference가 item으로만 이뤄진 interaction 뽑기\n",
    "import re\n",
    "def findNum(x):\n",
    "    return re.sub(r'[ㄱ-ㅎ가-힣a-zA-Z,]', '@',x)"
   ]
  },
  {
   "cell_type": "code",
   "execution_count": 341,
   "metadata": {
    "Collapsed": "false"
   },
   "outputs": [],
   "source": [
    "train['reference2'] = train['reference'].apply(lambda x : findNum(x))\n",
    "train['reference2'] = train['reference2'].apply(lambda x : None if '@' in x else x)\n",
    "tr = train.loc[train['reference2'].notnull()].sort_values(['user_id', 'timestamp'])[['user_id', 'reference', 'timestamp']]"
   ]
  },
  {
   "cell_type": "code",
   "execution_count": 342,
   "metadata": {
    "Collapsed": "false"
   },
   "outputs": [],
   "source": [
    "test = test.loc[test['reference'].notnull()]\n",
    "test['reference2'] = test['reference'].apply(lambda x : findNum(x))\n",
    "test['reference2'] = test['reference2'].apply(lambda x : None if '@' in x else x)\n",
    "te = test.loc[test['reference2'].notnull()].sort_values(['user_id', 'timestamp'])[['user_id', 'reference', 'timestamp']]"
   ]
  },
  {
   "cell_type": "code",
   "execution_count": 351,
   "metadata": {
    "Collapsed": "false"
   },
   "outputs": [],
   "source": [
    "interactions_item = pd.concat([tr, te], axis = 0).sort_values(['user_id', 'timestamp']).sort_values(['user_id', 'timestamp']).drop('timestamp', axis = 1)"
   ]
  },
  {
   "cell_type": "code",
   "execution_count": 352,
   "metadata": {
    "Collapsed": "false"
   },
   "outputs": [],
   "source": [
    "interactions_item = interactions_item.merge(user, on = 'user_id', how = 'left').merge(item, left_on = 'reference', right_on = 'item_id', how = 'left').drop(['user_id', 'reference', 'item_id'], axis = 1)"
   ]
  },
  {
   "cell_type": "code",
   "execution_count": 353,
   "metadata": {
    "Collapsed": "false"
   },
   "outputs": [
    {
     "data": {
      "text/html": [
       "<div>\n",
       "<style scoped>\n",
       "    .dataframe tbody tr th:only-of-type {\n",
       "        vertical-align: middle;\n",
       "    }\n",
       "\n",
       "    .dataframe tbody tr th {\n",
       "        vertical-align: top;\n",
       "    }\n",
       "\n",
       "    .dataframe thead th {\n",
       "        text-align: right;\n",
       "    }\n",
       "</style>\n",
       "<table border=\"1\" class=\"dataframe\">\n",
       "  <thead>\n",
       "    <tr style=\"text-align: right;\">\n",
       "      <th></th>\n",
       "      <th>user_idx</th>\n",
       "      <th>item_idx</th>\n",
       "    </tr>\n",
       "  </thead>\n",
       "  <tbody>\n",
       "    <tr>\n",
       "      <th>0</th>\n",
       "      <td>0</td>\n",
       "      <td>99559</td>\n",
       "    </tr>\n",
       "    <tr>\n",
       "      <th>1</th>\n",
       "      <td>0</td>\n",
       "      <td>99559</td>\n",
       "    </tr>\n",
       "    <tr>\n",
       "      <th>2</th>\n",
       "      <td>0</td>\n",
       "      <td>99559</td>\n",
       "    </tr>\n",
       "    <tr>\n",
       "      <th>3</th>\n",
       "      <td>0</td>\n",
       "      <td>99559</td>\n",
       "    </tr>\n",
       "    <tr>\n",
       "      <th>4</th>\n",
       "      <td>0</td>\n",
       "      <td>99559</td>\n",
       "    </tr>\n",
       "    <tr>\n",
       "      <th>...</th>\n",
       "      <td>...</td>\n",
       "      <td>...</td>\n",
       "    </tr>\n",
       "    <tr>\n",
       "      <th>8976876</th>\n",
       "      <td>400287</td>\n",
       "      <td>728608</td>\n",
       "    </tr>\n",
       "    <tr>\n",
       "      <th>8976877</th>\n",
       "      <td>400287</td>\n",
       "      <td>728608</td>\n",
       "    </tr>\n",
       "    <tr>\n",
       "      <th>8976878</th>\n",
       "      <td>400287</td>\n",
       "      <td>728608</td>\n",
       "    </tr>\n",
       "    <tr>\n",
       "      <th>8976879</th>\n",
       "      <td>400287</td>\n",
       "      <td>728608</td>\n",
       "    </tr>\n",
       "    <tr>\n",
       "      <th>8976880</th>\n",
       "      <td>400287</td>\n",
       "      <td>18961</td>\n",
       "    </tr>\n",
       "  </tbody>\n",
       "</table>\n",
       "<p>8976881 rows × 2 columns</p>\n",
       "</div>"
      ],
      "text/plain": [
       "        user_idx item_idx\n",
       "0              0    99559\n",
       "1              0    99559\n",
       "2              0    99559\n",
       "3              0    99559\n",
       "4              0    99559\n",
       "...          ...      ...\n",
       "8976876   400287   728608\n",
       "8976877   400287   728608\n",
       "8976878   400287   728608\n",
       "8976879   400287   728608\n",
       "8976880   400287    18961\n",
       "\n",
       "[8976881 rows x 2 columns]"
      ]
     },
     "execution_count": 353,
     "metadata": {},
     "output_type": "execute_result"
    }
   ],
   "source": [
    "interactions_item"
   ]
  },
  {
   "cell_type": "code",
   "execution_count": 419,
   "metadata": {
    "Collapsed": "false"
   },
   "outputs": [],
   "source": [
    "interactions_item = interactions_item.loc[interactions_item['item_idx'].notnull()]"
   ]
  },
  {
   "cell_type": "code",
   "execution_count": 420,
   "metadata": {
    "Collapsed": "false"
   },
   "outputs": [],
   "source": [
    "interactions_item.to_csv('trv_item.txt', index=False, header=None, sep=\"\\t\")"
   ]
  },
  {
   "cell_type": "code",
   "execution_count": 415,
   "metadata": {
    "Collapsed": "false"
   },
   "outputs": [
    {
     "data": {
      "text/html": [
       "<div>\n",
       "<style scoped>\n",
       "    .dataframe tbody tr th:only-of-type {\n",
       "        vertical-align: middle;\n",
       "    }\n",
       "\n",
       "    .dataframe tbody tr th {\n",
       "        vertical-align: top;\n",
       "    }\n",
       "\n",
       "    .dataframe thead th {\n",
       "        text-align: right;\n",
       "    }\n",
       "</style>\n",
       "<table border=\"1\" class=\"dataframe\">\n",
       "  <thead>\n",
       "    <tr style=\"text-align: right;\">\n",
       "      <th></th>\n",
       "      <th>item_idx</th>\n",
       "      <th>item_id</th>\n",
       "    </tr>\n",
       "  </thead>\n",
       "  <tbody>\n",
       "    <tr>\n",
       "      <th>0</th>\n",
       "      <td>0</td>\n",
       "      <td>5101</td>\n",
       "    </tr>\n",
       "    <tr>\n",
       "      <th>1</th>\n",
       "      <td>1</td>\n",
       "      <td>5416</td>\n",
       "    </tr>\n",
       "    <tr>\n",
       "      <th>2</th>\n",
       "      <td>2</td>\n",
       "      <td>5834</td>\n",
       "    </tr>\n",
       "    <tr>\n",
       "      <th>3</th>\n",
       "      <td>3</td>\n",
       "      <td>5910</td>\n",
       "    </tr>\n",
       "    <tr>\n",
       "      <th>4</th>\n",
       "      <td>4</td>\n",
       "      <td>6066</td>\n",
       "    </tr>\n",
       "    <tr>\n",
       "      <th>...</th>\n",
       "      <td>...</td>\n",
       "      <td>...</td>\n",
       "    </tr>\n",
       "    <tr>\n",
       "      <th>927137</th>\n",
       "      <td>927137</td>\n",
       "      <td>11199990</td>\n",
       "    </tr>\n",
       "    <tr>\n",
       "      <th>927138</th>\n",
       "      <td>927138</td>\n",
       "      <td>11236100</td>\n",
       "    </tr>\n",
       "    <tr>\n",
       "      <th>927139</th>\n",
       "      <td>927139</td>\n",
       "      <td>11260526</td>\n",
       "    </tr>\n",
       "    <tr>\n",
       "      <th>927140</th>\n",
       "      <td>927140</td>\n",
       "      <td>11263712</td>\n",
       "    </tr>\n",
       "    <tr>\n",
       "      <th>927141</th>\n",
       "      <td>927141</td>\n",
       "      <td>11275316</td>\n",
       "    </tr>\n",
       "  </tbody>\n",
       "</table>\n",
       "<p>927142 rows × 2 columns</p>\n",
       "</div>"
      ],
      "text/plain": [
       "       item_idx   item_id\n",
       "0             0      5101\n",
       "1             1      5416\n",
       "2             2      5834\n",
       "3             3      5910\n",
       "4             4      6066\n",
       "...         ...       ...\n",
       "927137   927137  11199990\n",
       "927138   927138  11236100\n",
       "927139   927139  11260526\n",
       "927140   927140  11263712\n",
       "927141   927141  11275316\n",
       "\n",
       "[927142 rows x 2 columns]"
      ]
     },
     "execution_count": 415,
     "metadata": {},
     "output_type": "execute_result"
    }
   ],
   "source": [
    "item"
   ]
  },
  {
   "cell_type": "markdown",
   "metadata": {
    "Collapsed": "false"
   },
   "source": [
    "# seoul 호텔 검색 세선"
   ]
  },
  {
   "cell_type": "code",
   "execution_count": 421,
   "metadata": {
    "Collapsed": "false"
   },
   "outputs": [],
   "source": [
    "train = pd.read_csv(os.path.join('..', 'data', 'proc', 'seoul_train.csv'))\n",
    "test = pd.read_csv(os.path.join('..', 'data', 'proc', 'seoul_test.csv'))"
   ]
  },
  {
   "cell_type": "code",
   "execution_count": 432,
   "metadata": {
    "Collapsed": "false"
   },
   "outputs": [],
   "source": [
    "tr = train.loc[train['action_type'] == 'clickout item', ['user_id','reference']]"
   ]
  },
  {
   "cell_type": "code",
   "execution_count": 433,
   "metadata": {
    "Collapsed": "false"
   },
   "outputs": [],
   "source": [
    "te = test.loc[test['action_type'] == 'clickout item', ['user_id','reference']]"
   ]
  },
  {
   "cell_type": "code",
   "execution_count": 437,
   "metadata": {
    "Collapsed": "false"
   },
   "outputs": [],
   "source": [
    "df = pd.concat([tr, te], axis = 0)"
   ]
  },
  {
   "cell_type": "code",
   "execution_count": 447,
   "metadata": {
    "Collapsed": "false"
   },
   "outputs": [
    {
     "data": {
      "text/plain": [
       "1408"
      ]
     },
     "execution_count": 447,
     "metadata": {},
     "output_type": "execute_result"
    }
   ],
   "source": [
    "df['user_id'].nunique()"
   ]
  },
  {
   "cell_type": "code",
   "execution_count": 445,
   "metadata": {
    "Collapsed": "false"
   },
   "outputs": [
    {
     "data": {
      "text/plain": [
       "358"
      ]
     },
     "execution_count": 445,
     "metadata": {},
     "output_type": "execute_result"
    }
   ],
   "source": [
    "(df.groupby('user_id')['reference'].count() > 2).sum()"
   ]
  },
  {
   "cell_type": "code",
   "execution_count": 457,
   "metadata": {
    "Collapsed": "false"
   },
   "outputs": [],
   "source": [
    "# 서울을 검색한 기록이 있는 user\n",
    "idx = list(set(list(train['user_id'].unique()) + list(test['user_id'].unique())))"
   ]
  },
  {
   "cell_type": "code",
   "execution_count": 486,
   "metadata": {
    "Collapsed": "false"
   },
   "outputs": [],
   "source": [
    "train = pd.read_csv(os.path.join('..', 'data', 'proc', 'raw_train.csv'))\n",
    "test = pd.read_csv(os.path.join('..', 'data', 'proc', 'raw_test.csv'))"
   ]
  },
  {
   "cell_type": "code",
   "execution_count": 487,
   "metadata": {
    "Collapsed": "false"
   },
   "outputs": [],
   "source": [
    "log_all = pd.concat([train,test], axis = 0)"
   ]
  },
  {
   "cell_type": "code",
   "execution_count": 488,
   "metadata": {
    "Collapsed": "false"
   },
   "outputs": [],
   "source": [
    "log_all.index = log_all['user_id']"
   ]
  },
  {
   "cell_type": "code",
   "execution_count": 514,
   "metadata": {
    "Collapsed": "false"
   },
   "outputs": [
    {
     "data": {
      "text/plain": [
       "1581"
      ]
     },
     "execution_count": 514,
     "metadata": {},
     "output_type": "execute_result"
    }
   ],
   "source": [
    "len(idx)"
   ]
  },
  {
   "cell_type": "code",
   "execution_count": 530,
   "metadata": {
    "Collapsed": "false"
   },
   "outputs": [],
   "source": [
    "log_all.loc[log_all['city'] == 'Seoul, South Korea'].reset_index(drop = True).to_excel('./seoul_session.xlsx')"
   ]
  },
  {
   "cell_type": "code",
   "execution_count": 541,
   "metadata": {
    "Collapsed": "false"
   },
   "outputs": [],
   "source": [
    "df = log_all.loc[log_all['city'] == 'Seoul, South Korea'].reset_index(drop = True)"
   ]
  },
  {
   "cell_type": "code",
   "execution_count": 543,
   "metadata": {
    "Collapsed": "false"
   },
   "outputs": [
    {
     "data": {
      "text/html": [
       "<div>\n",
       "<style scoped>\n",
       "    .dataframe tbody tr th:only-of-type {\n",
       "        vertical-align: middle;\n",
       "    }\n",
       "\n",
       "    .dataframe tbody tr th {\n",
       "        vertical-align: top;\n",
       "    }\n",
       "\n",
       "    .dataframe thead th {\n",
       "        text-align: right;\n",
       "    }\n",
       "</style>\n",
       "<table border=\"1\" class=\"dataframe\">\n",
       "  <thead>\n",
       "    <tr style=\"text-align: right;\">\n",
       "      <th></th>\n",
       "      <th>user_id</th>\n",
       "      <th>session_id</th>\n",
       "      <th>timestamp</th>\n",
       "      <th>step</th>\n",
       "      <th>action_type</th>\n",
       "      <th>reference</th>\n",
       "      <th>platform</th>\n",
       "      <th>city</th>\n",
       "      <th>device</th>\n",
       "      <th>current_filters</th>\n",
       "      <th>impressions</th>\n",
       "      <th>prices</th>\n",
       "    </tr>\n",
       "  </thead>\n",
       "  <tbody>\n",
       "    <tr>\n",
       "      <th>1</th>\n",
       "      <td>0L2TX0JNYVQ6</td>\n",
       "      <td>06e7c29170946</td>\n",
       "      <td>1541041870</td>\n",
       "      <td>2</td>\n",
       "      <td>clickout item</td>\n",
       "      <td>10091602</td>\n",
       "      <td>HK</td>\n",
       "      <td>Seoul, South Korea</td>\n",
       "      <td>desktop</td>\n",
       "      <td>NaN</td>\n",
       "      <td>2802232|2733571|5477718|155374|155465|3549258|...</td>\n",
       "      <td>124|176|99|220|191|127|85|54|83|268|78|144|96|...</td>\n",
       "    </tr>\n",
       "    <tr>\n",
       "      <th>4</th>\n",
       "      <td>0L2TX0JNYVQ6</td>\n",
       "      <td>06e7c29170946</td>\n",
       "      <td>1541044151</td>\n",
       "      <td>5</td>\n",
       "      <td>clickout item</td>\n",
       "      <td>10091602</td>\n",
       "      <td>HK</td>\n",
       "      <td>Seoul, South Korea</td>\n",
       "      <td>desktop</td>\n",
       "      <td>NaN</td>\n",
       "      <td>3549258|155465|155374|363046|3954788|4773608|3...</td>\n",
       "      <td>135|189|219|78|74|135|95|85|176|99|108|83|87|3...</td>\n",
       "    </tr>\n",
       "    <tr>\n",
       "      <th>7</th>\n",
       "      <td>0L2TX0JNYVQ6</td>\n",
       "      <td>06e7c29170946</td>\n",
       "      <td>1541044294</td>\n",
       "      <td>8</td>\n",
       "      <td>clickout item</td>\n",
       "      <td>1394008</td>\n",
       "      <td>HK</td>\n",
       "      <td>Seoul, South Korea</td>\n",
       "      <td>desktop</td>\n",
       "      <td>NaN</td>\n",
       "      <td>2736998|9386776|7016734|2867638|797516|5677278...</td>\n",
       "      <td>249|122|110|81|81|42|74|109|62|91|83|104|78|87...</td>\n",
       "    </tr>\n",
       "    <tr>\n",
       "      <th>8</th>\n",
       "      <td>0L2TX0JNYVQ6</td>\n",
       "      <td>06e7c29170946</td>\n",
       "      <td>1541044324</td>\n",
       "      <td>9</td>\n",
       "      <td>clickout item</td>\n",
       "      <td>1394008</td>\n",
       "      <td>HK</td>\n",
       "      <td>Seoul, South Korea</td>\n",
       "      <td>desktop</td>\n",
       "      <td>NaN</td>\n",
       "      <td>2736998|9386776|7016734|2867638|797516|5677278...</td>\n",
       "      <td>249|122|110|81|81|42|74|109|62|91|83|104|78|87...</td>\n",
       "    </tr>\n",
       "    <tr>\n",
       "      <th>9</th>\n",
       "      <td>0L2TX0JNYVQ6</td>\n",
       "      <td>06e7c29170946</td>\n",
       "      <td>1541044344</td>\n",
       "      <td>10</td>\n",
       "      <td>clickout item</td>\n",
       "      <td>5109850</td>\n",
       "      <td>HK</td>\n",
       "      <td>Seoul, South Korea</td>\n",
       "      <td>desktop</td>\n",
       "      <td>NaN</td>\n",
       "      <td>5109850|3505382|377811|155374|4849224|3501452|...</td>\n",
       "      <td>59|52|66|219|104|95|85|69|125|176|99|83|30|268...</td>\n",
       "    </tr>\n",
       "    <tr>\n",
       "      <th>...</th>\n",
       "      <td>...</td>\n",
       "      <td>...</td>\n",
       "      <td>...</td>\n",
       "      <td>...</td>\n",
       "      <td>...</td>\n",
       "      <td>...</td>\n",
       "      <td>...</td>\n",
       "      <td>...</td>\n",
       "      <td>...</td>\n",
       "      <td>...</td>\n",
       "      <td>...</td>\n",
       "      <td>...</td>\n",
       "    </tr>\n",
       "    <tr>\n",
       "      <th>39922</th>\n",
       "      <td>QOVMYB65MO00</td>\n",
       "      <td>78ffdc618a4fd</td>\n",
       "      <td>1541557759</td>\n",
       "      <td>12</td>\n",
       "      <td>clickout item</td>\n",
       "      <td>NaN</td>\n",
       "      <td>JP</td>\n",
       "      <td>Seoul, South Korea</td>\n",
       "      <td>desktop</td>\n",
       "      <td>Hotel|5 Star|4 Star|3 Star|Free WiFi (Combined)</td>\n",
       "      <td>363046|155486|155348|844336|1176048|475296|475...</td>\n",
       "      <td>90|73|201|69|80|70|103|62|112|82|58|97|56|126|...</td>\n",
       "    </tr>\n",
       "    <tr>\n",
       "      <th>39924</th>\n",
       "      <td>CPLU2L7YFW64</td>\n",
       "      <td>650a3064ca06b</td>\n",
       "      <td>1541632281</td>\n",
       "      <td>2</td>\n",
       "      <td>clickout item</td>\n",
       "      <td>6833196</td>\n",
       "      <td>JP</td>\n",
       "      <td>Seoul, South Korea</td>\n",
       "      <td>desktop</td>\n",
       "      <td>NaN</td>\n",
       "      <td>6833196|7350166|3491670|4841728|8974570|797516...</td>\n",
       "      <td>166|157|205|264|223|356|169|548|263|1215|53|27...</td>\n",
       "    </tr>\n",
       "    <tr>\n",
       "      <th>39925</th>\n",
       "      <td>CPLU2L7YFW64</td>\n",
       "      <td>650a3064ca06b</td>\n",
       "      <td>1541632355</td>\n",
       "      <td>3</td>\n",
       "      <td>clickout item</td>\n",
       "      <td>6833196</td>\n",
       "      <td>JP</td>\n",
       "      <td>Seoul, South Korea</td>\n",
       "      <td>desktop</td>\n",
       "      <td>NaN</td>\n",
       "      <td>6833196|7350166|3491670|4841728|8974570|797516...</td>\n",
       "      <td>166|157|205|264|223|356|169|548|263|1215|53|27...</td>\n",
       "    </tr>\n",
       "    <tr>\n",
       "      <th>39931</th>\n",
       "      <td>CPLU2L7YFW64</td>\n",
       "      <td>650a3064ca06b</td>\n",
       "      <td>1541632819</td>\n",
       "      <td>9</td>\n",
       "      <td>clickout item</td>\n",
       "      <td>3475208</td>\n",
       "      <td>JP</td>\n",
       "      <td>Seoul, South Korea</td>\n",
       "      <td>desktop</td>\n",
       "      <td>Hotel|Sort By Distance</td>\n",
       "      <td>10493016|3475208|5819970|4387254|4343730|21992...</td>\n",
       "      <td>132|145|121|190|179|174|116|180|175|137|176|17...</td>\n",
       "    </tr>\n",
       "    <tr>\n",
       "      <th>39933</th>\n",
       "      <td>CPLU2L7YFW64</td>\n",
       "      <td>650a3064ca06b</td>\n",
       "      <td>1541633266</td>\n",
       "      <td>11</td>\n",
       "      <td>clickout item</td>\n",
       "      <td>NaN</td>\n",
       "      <td>JP</td>\n",
       "      <td>Seoul, South Korea</td>\n",
       "      <td>desktop</td>\n",
       "      <td>Hotel</td>\n",
       "      <td>475161|475196|7018322|363056|156072|2800276|43...</td>\n",
       "      <td>196|183|181|194|170|143|167|119|180|192|165|15...</td>\n",
       "    </tr>\n",
       "  </tbody>\n",
       "</table>\n",
       "<p>4439 rows × 12 columns</p>\n",
       "</div>"
      ],
      "text/plain": [
       "            user_id     session_id   timestamp  step    action_type reference  \\\n",
       "1      0L2TX0JNYVQ6  06e7c29170946  1541041870     2  clickout item  10091602   \n",
       "4      0L2TX0JNYVQ6  06e7c29170946  1541044151     5  clickout item  10091602   \n",
       "7      0L2TX0JNYVQ6  06e7c29170946  1541044294     8  clickout item   1394008   \n",
       "8      0L2TX0JNYVQ6  06e7c29170946  1541044324     9  clickout item   1394008   \n",
       "9      0L2TX0JNYVQ6  06e7c29170946  1541044344    10  clickout item   5109850   \n",
       "...             ...            ...         ...   ...            ...       ...   \n",
       "39922  QOVMYB65MO00  78ffdc618a4fd  1541557759    12  clickout item       NaN   \n",
       "39924  CPLU2L7YFW64  650a3064ca06b  1541632281     2  clickout item   6833196   \n",
       "39925  CPLU2L7YFW64  650a3064ca06b  1541632355     3  clickout item   6833196   \n",
       "39931  CPLU2L7YFW64  650a3064ca06b  1541632819     9  clickout item   3475208   \n",
       "39933  CPLU2L7YFW64  650a3064ca06b  1541633266    11  clickout item       NaN   \n",
       "\n",
       "      platform                city   device  \\\n",
       "1           HK  Seoul, South Korea  desktop   \n",
       "4           HK  Seoul, South Korea  desktop   \n",
       "7           HK  Seoul, South Korea  desktop   \n",
       "8           HK  Seoul, South Korea  desktop   \n",
       "9           HK  Seoul, South Korea  desktop   \n",
       "...        ...                 ...      ...   \n",
       "39922       JP  Seoul, South Korea  desktop   \n",
       "39924       JP  Seoul, South Korea  desktop   \n",
       "39925       JP  Seoul, South Korea  desktop   \n",
       "39931       JP  Seoul, South Korea  desktop   \n",
       "39933       JP  Seoul, South Korea  desktop   \n",
       "\n",
       "                                       current_filters  \\\n",
       "1                                                  NaN   \n",
       "4                                                  NaN   \n",
       "7                                                  NaN   \n",
       "8                                                  NaN   \n",
       "9                                                  NaN   \n",
       "...                                                ...   \n",
       "39922  Hotel|5 Star|4 Star|3 Star|Free WiFi (Combined)   \n",
       "39924                                              NaN   \n",
       "39925                                              NaN   \n",
       "39931                           Hotel|Sort By Distance   \n",
       "39933                                            Hotel   \n",
       "\n",
       "                                             impressions  \\\n",
       "1      2802232|2733571|5477718|155374|155465|3549258|...   \n",
       "4      3549258|155465|155374|363046|3954788|4773608|3...   \n",
       "7      2736998|9386776|7016734|2867638|797516|5677278...   \n",
       "8      2736998|9386776|7016734|2867638|797516|5677278...   \n",
       "9      5109850|3505382|377811|155374|4849224|3501452|...   \n",
       "...                                                  ...   \n",
       "39922  363046|155486|155348|844336|1176048|475296|475...   \n",
       "39924  6833196|7350166|3491670|4841728|8974570|797516...   \n",
       "39925  6833196|7350166|3491670|4841728|8974570|797516...   \n",
       "39931  10493016|3475208|5819970|4387254|4343730|21992...   \n",
       "39933  475161|475196|7018322|363056|156072|2800276|43...   \n",
       "\n",
       "                                                  prices  \n",
       "1      124|176|99|220|191|127|85|54|83|268|78|144|96|...  \n",
       "4      135|189|219|78|74|135|95|85|176|99|108|83|87|3...  \n",
       "7      249|122|110|81|81|42|74|109|62|91|83|104|78|87...  \n",
       "8      249|122|110|81|81|42|74|109|62|91|83|104|78|87...  \n",
       "9      59|52|66|219|104|95|85|69|125|176|99|83|30|268...  \n",
       "...                                                  ...  \n",
       "39922  90|73|201|69|80|70|103|62|112|82|58|97|56|126|...  \n",
       "39924  166|157|205|264|223|356|169|548|263|1215|53|27...  \n",
       "39925  166|157|205|264|223|356|169|548|263|1215|53|27...  \n",
       "39931  132|145|121|190|179|174|116|180|175|137|176|17...  \n",
       "39933  196|183|181|194|170|143|167|119|180|192|165|15...  \n",
       "\n",
       "[4439 rows x 12 columns]"
      ]
     },
     "execution_count": 543,
     "metadata": {},
     "output_type": "execute_result"
    }
   ],
   "source": [
    "df.loc[df['action_type'] == 'clickout item']"
   ]
  },
  {
   "cell_type": "code",
   "execution_count": 544,
   "metadata": {
    "Collapsed": "false"
   },
   "outputs": [
    {
     "data": {
      "text/plain": [
       "(741, 1807)"
      ]
     },
     "execution_count": 544,
     "metadata": {},
     "output_type": "execute_result"
    }
   ],
   "source": [
    "df.loc[df['action_type'] == 'clickout item', 'reference'].nunique(), df.loc[df['action_type'] == 'clickout item', 'user_id'].nunique()"
   ]
  },
  {
   "cell_type": "code",
   "execution_count": 568,
   "metadata": {
    "Collapsed": "false"
   },
   "outputs": [],
   "source": [
    "df_click = df.loc[(df['action_type'] == 'clickout item') & (df['reference'].notnull())]"
   ]
  },
  {
   "cell_type": "code",
   "execution_count": 569,
   "metadata": {
    "Collapsed": "false"
   },
   "outputs": [],
   "source": [
    "df_click = (df_click[['user_id', 'reference', 'timestamp']]\n",
    "            .merge(df_click.groupby('user_id')['reference'].count()\n",
    "                   .reset_index(), on = 'user_id', how = 'left')\n",
    "           .sort_values(['user_id', 'timestamp']))"
   ]
  },
  {
   "cell_type": "code",
   "execution_count": 570,
   "metadata": {
    "Collapsed": "false"
   },
   "outputs": [
    {
     "data": {
      "text/html": [
       "<div>\n",
       "<style scoped>\n",
       "    .dataframe tbody tr th:only-of-type {\n",
       "        vertical-align: middle;\n",
       "    }\n",
       "\n",
       "    .dataframe tbody tr th {\n",
       "        vertical-align: top;\n",
       "    }\n",
       "\n",
       "    .dataframe thead th {\n",
       "        text-align: right;\n",
       "    }\n",
       "</style>\n",
       "<table border=\"1\" class=\"dataframe\">\n",
       "  <thead>\n",
       "    <tr style=\"text-align: right;\">\n",
       "      <th></th>\n",
       "      <th>user_id</th>\n",
       "      <th>reference_x</th>\n",
       "      <th>timestamp</th>\n",
       "      <th>reference_y</th>\n",
       "    </tr>\n",
       "  </thead>\n",
       "  <tbody>\n",
       "    <tr>\n",
       "      <th>1002</th>\n",
       "      <td>002GA0R9935R</td>\n",
       "      <td>155461</td>\n",
       "      <td>1541434155</td>\n",
       "      <td>1</td>\n",
       "    </tr>\n",
       "    <tr>\n",
       "      <th>735</th>\n",
       "      <td>00CR4VNMYT1J</td>\n",
       "      <td>9196336</td>\n",
       "      <td>1541305950</td>\n",
       "      <td>1</td>\n",
       "    </tr>\n",
       "    <tr>\n",
       "      <th>2000</th>\n",
       "      <td>024L2YJV0SRX</td>\n",
       "      <td>2802232</td>\n",
       "      <td>1541419921</td>\n",
       "      <td>7</td>\n",
       "    </tr>\n",
       "    <tr>\n",
       "      <th>2001</th>\n",
       "      <td>024L2YJV0SRX</td>\n",
       "      <td>155989</td>\n",
       "      <td>1541419944</td>\n",
       "      <td>7</td>\n",
       "    </tr>\n",
       "    <tr>\n",
       "      <th>2002</th>\n",
       "      <td>024L2YJV0SRX</td>\n",
       "      <td>3132376</td>\n",
       "      <td>1541420056</td>\n",
       "      <td>7</td>\n",
       "    </tr>\n",
       "    <tr>\n",
       "      <th>...</th>\n",
       "      <td>...</td>\n",
       "      <td>...</td>\n",
       "      <td>...</td>\n",
       "      <td>...</td>\n",
       "    </tr>\n",
       "    <tr>\n",
       "      <th>1755</th>\n",
       "      <td>ZWFZVALX5VP1</td>\n",
       "      <td>363061</td>\n",
       "      <td>1541085518</td>\n",
       "      <td>2</td>\n",
       "    </tr>\n",
       "    <tr>\n",
       "      <th>1756</th>\n",
       "      <td>ZWFZVALX5VP1</td>\n",
       "      <td>363081</td>\n",
       "      <td>1541086238</td>\n",
       "      <td>2</td>\n",
       "    </tr>\n",
       "    <tr>\n",
       "      <th>126</th>\n",
       "      <td>ZYQUCE9LUM5W</td>\n",
       "      <td>3184625</td>\n",
       "      <td>1541304483</td>\n",
       "      <td>1</td>\n",
       "    </tr>\n",
       "    <tr>\n",
       "      <th>2208</th>\n",
       "      <td>ZZ323VWV4TOS</td>\n",
       "      <td>2733571</td>\n",
       "      <td>1541045593</td>\n",
       "      <td>2</td>\n",
       "    </tr>\n",
       "    <tr>\n",
       "      <th>2209</th>\n",
       "      <td>ZZ323VWV4TOS</td>\n",
       "      <td>2733571</td>\n",
       "      <td>1541045725</td>\n",
       "      <td>2</td>\n",
       "    </tr>\n",
       "  </tbody>\n",
       "</table>\n",
       "<p>4000 rows × 4 columns</p>\n",
       "</div>"
      ],
      "text/plain": [
       "           user_id reference_x   timestamp  reference_y\n",
       "1002  002GA0R9935R      155461  1541434155            1\n",
       "735   00CR4VNMYT1J     9196336  1541305950            1\n",
       "2000  024L2YJV0SRX     2802232  1541419921            7\n",
       "2001  024L2YJV0SRX      155989  1541419944            7\n",
       "2002  024L2YJV0SRX     3132376  1541420056            7\n",
       "...            ...         ...         ...          ...\n",
       "1755  ZWFZVALX5VP1      363061  1541085518            2\n",
       "1756  ZWFZVALX5VP1      363081  1541086238            2\n",
       "126   ZYQUCE9LUM5W     3184625  1541304483            1\n",
       "2208  ZZ323VWV4TOS     2733571  1541045593            2\n",
       "2209  ZZ323VWV4TOS     2733571  1541045725            2\n",
       "\n",
       "[4000 rows x 4 columns]"
      ]
     },
     "execution_count": 570,
     "metadata": {},
     "output_type": "execute_result"
    }
   ],
   "source": [
    "df_click"
   ]
  },
  {
   "cell_type": "code",
   "execution_count": 571,
   "metadata": {
    "Collapsed": "false"
   },
   "outputs": [
    {
     "data": {
      "text/html": [
       "<div>\n",
       "<style scoped>\n",
       "    .dataframe tbody tr th:only-of-type {\n",
       "        vertical-align: middle;\n",
       "    }\n",
       "\n",
       "    .dataframe tbody tr th {\n",
       "        vertical-align: top;\n",
       "    }\n",
       "\n",
       "    .dataframe thead th {\n",
       "        text-align: right;\n",
       "    }\n",
       "</style>\n",
       "<table border=\"1\" class=\"dataframe\">\n",
       "  <thead>\n",
       "    <tr style=\"text-align: right;\">\n",
       "      <th></th>\n",
       "      <th>user_id</th>\n",
       "      <th>reference_x</th>\n",
       "    </tr>\n",
       "  </thead>\n",
       "  <tbody>\n",
       "    <tr>\n",
       "      <th>2000</th>\n",
       "      <td>024L2YJV0SRX</td>\n",
       "      <td>2802232</td>\n",
       "    </tr>\n",
       "    <tr>\n",
       "      <th>2001</th>\n",
       "      <td>024L2YJV0SRX</td>\n",
       "      <td>155989</td>\n",
       "    </tr>\n",
       "    <tr>\n",
       "      <th>2002</th>\n",
       "      <td>024L2YJV0SRX</td>\n",
       "      <td>3132376</td>\n",
       "    </tr>\n",
       "    <tr>\n",
       "      <th>2003</th>\n",
       "      <td>024L2YJV0SRX</td>\n",
       "      <td>844336</td>\n",
       "    </tr>\n",
       "    <tr>\n",
       "      <th>2004</th>\n",
       "      <td>024L2YJV0SRX</td>\n",
       "      <td>363096</td>\n",
       "    </tr>\n",
       "    <tr>\n",
       "      <th>...</th>\n",
       "      <td>...</td>\n",
       "      <td>...</td>\n",
       "    </tr>\n",
       "    <tr>\n",
       "      <th>1802</th>\n",
       "      <td>ZJPPH5Z85CL3</td>\n",
       "      <td>6466284</td>\n",
       "    </tr>\n",
       "    <tr>\n",
       "      <th>1803</th>\n",
       "      <td>ZJPPH5Z85CL3</td>\n",
       "      <td>5169964</td>\n",
       "    </tr>\n",
       "    <tr>\n",
       "      <th>311</th>\n",
       "      <td>ZP00669TCBB6</td>\n",
       "      <td>363071</td>\n",
       "    </tr>\n",
       "    <tr>\n",
       "      <th>312</th>\n",
       "      <td>ZP00669TCBB6</td>\n",
       "      <td>7016734</td>\n",
       "    </tr>\n",
       "    <tr>\n",
       "      <th>313</th>\n",
       "      <td>ZP00669TCBB6</td>\n",
       "      <td>2736998</td>\n",
       "    </tr>\n",
       "  </tbody>\n",
       "</table>\n",
       "<p>2514 rows × 2 columns</p>\n",
       "</div>"
      ],
      "text/plain": [
       "           user_id reference_x\n",
       "2000  024L2YJV0SRX     2802232\n",
       "2001  024L2YJV0SRX      155989\n",
       "2002  024L2YJV0SRX     3132376\n",
       "2003  024L2YJV0SRX      844336\n",
       "2004  024L2YJV0SRX      363096\n",
       "...            ...         ...\n",
       "1802  ZJPPH5Z85CL3     6466284\n",
       "1803  ZJPPH5Z85CL3     5169964\n",
       "311   ZP00669TCBB6      363071\n",
       "312   ZP00669TCBB6     7016734\n",
       "313   ZP00669TCBB6     2736998\n",
       "\n",
       "[2514 rows x 2 columns]"
      ]
     },
     "execution_count": 571,
     "metadata": {},
     "output_type": "execute_result"
    }
   ],
   "source": [
    "df_click.loc[df_click['reference_y'] > 2, ['user_id', 'reference_x']]"
   ]
  },
  {
   "cell_type": "code",
   "execution_count": 572,
   "metadata": {
    "Collapsed": "false"
   },
   "outputs": [],
   "source": [
    "# seoul 호텔을 검색해본 user 뽑기"
   ]
  },
  {
   "cell_type": "code",
   "execution_count": 576,
   "metadata": {
    "Collapsed": "false"
   },
   "outputs": [],
   "source": [
    "idx = log_all.loc[log_all['city'] == 'Seoul, South Korea'].index.unique()"
   ]
  },
  {
   "cell_type": "code",
   "execution_count": 578,
   "metadata": {
    "Collapsed": "false"
   },
   "outputs": [],
   "source": [
    "df2 = log_all.loc[idx].reset_index(drop = True)"
   ]
  },
  {
   "cell_type": "code",
   "execution_count": 590,
   "metadata": {
    "Collapsed": "false"
   },
   "outputs": [],
   "source": [
    "df2_click = df2.loc[(df2['action_type'] == 'clickout item') & (df2['reference'].notnull())]"
   ]
  },
  {
   "cell_type": "code",
   "execution_count": 591,
   "metadata": {
    "Collapsed": "false"
   },
   "outputs": [],
   "source": [
    "df2_click = (df2_click[['user_id', 'reference', 'timestamp', 'city']]\n",
    "            .merge(df2_click.groupby('user_id')['reference'].count()\n",
    "                   .reset_index(), on = 'user_id', how = 'left')\n",
    "           .sort_values(['user_id', 'timestamp']))"
   ]
  },
  {
   "cell_type": "code",
   "execution_count": 593,
   "metadata": {
    "Collapsed": "false"
   },
   "outputs": [
    {
     "data": {
      "text/html": [
       "<div>\n",
       "<style scoped>\n",
       "    .dataframe tbody tr th:only-of-type {\n",
       "        vertical-align: middle;\n",
       "    }\n",
       "\n",
       "    .dataframe tbody tr th {\n",
       "        vertical-align: top;\n",
       "    }\n",
       "\n",
       "    .dataframe thead th {\n",
       "        text-align: right;\n",
       "    }\n",
       "</style>\n",
       "<table border=\"1\" class=\"dataframe\">\n",
       "  <thead>\n",
       "    <tr style=\"text-align: right;\">\n",
       "      <th></th>\n",
       "      <th>user_id</th>\n",
       "      <th>reference_x</th>\n",
       "      <th>city</th>\n",
       "    </tr>\n",
       "  </thead>\n",
       "  <tbody>\n",
       "    <tr>\n",
       "      <th>2813</th>\n",
       "      <td>024L2YJV0SRX</td>\n",
       "      <td>2802232</td>\n",
       "      <td>Seoul, South Korea</td>\n",
       "    </tr>\n",
       "    <tr>\n",
       "      <th>2814</th>\n",
       "      <td>024L2YJV0SRX</td>\n",
       "      <td>155989</td>\n",
       "      <td>Seoul, South Korea</td>\n",
       "    </tr>\n",
       "    <tr>\n",
       "      <th>2815</th>\n",
       "      <td>024L2YJV0SRX</td>\n",
       "      <td>3132376</td>\n",
       "      <td>Seoul, South Korea</td>\n",
       "    </tr>\n",
       "    <tr>\n",
       "      <th>2816</th>\n",
       "      <td>024L2YJV0SRX</td>\n",
       "      <td>844336</td>\n",
       "      <td>Seoul, South Korea</td>\n",
       "    </tr>\n",
       "    <tr>\n",
       "      <th>2817</th>\n",
       "      <td>024L2YJV0SRX</td>\n",
       "      <td>363096</td>\n",
       "      <td>Seoul, South Korea</td>\n",
       "    </tr>\n",
       "    <tr>\n",
       "      <th>...</th>\n",
       "      <td>...</td>\n",
       "      <td>...</td>\n",
       "      <td>...</td>\n",
       "    </tr>\n",
       "    <tr>\n",
       "      <th>3374</th>\n",
       "      <td>ZOPTENE0D3K2</td>\n",
       "      <td>103493</td>\n",
       "      <td>Kobe, Japan</td>\n",
       "    </tr>\n",
       "    <tr>\n",
       "      <th>3375</th>\n",
       "      <td>ZOPTENE0D3K2</td>\n",
       "      <td>502971</td>\n",
       "      <td>Beppu, Japan</td>\n",
       "    </tr>\n",
       "    <tr>\n",
       "      <th>668</th>\n",
       "      <td>ZP00669TCBB6</td>\n",
       "      <td>363071</td>\n",
       "      <td>Seoul, South Korea</td>\n",
       "    </tr>\n",
       "    <tr>\n",
       "      <th>669</th>\n",
       "      <td>ZP00669TCBB6</td>\n",
       "      <td>7016734</td>\n",
       "      <td>Seoul, South Korea</td>\n",
       "    </tr>\n",
       "    <tr>\n",
       "      <th>670</th>\n",
       "      <td>ZP00669TCBB6</td>\n",
       "      <td>2736998</td>\n",
       "      <td>Seoul, South Korea</td>\n",
       "    </tr>\n",
       "  </tbody>\n",
       "</table>\n",
       "<p>3331 rows × 3 columns</p>\n",
       "</div>"
      ],
      "text/plain": [
       "           user_id reference_x                city\n",
       "2813  024L2YJV0SRX     2802232  Seoul, South Korea\n",
       "2814  024L2YJV0SRX      155989  Seoul, South Korea\n",
       "2815  024L2YJV0SRX     3132376  Seoul, South Korea\n",
       "2816  024L2YJV0SRX      844336  Seoul, South Korea\n",
       "2817  024L2YJV0SRX      363096  Seoul, South Korea\n",
       "...            ...         ...                 ...\n",
       "3374  ZOPTENE0D3K2      103493         Kobe, Japan\n",
       "3375  ZOPTENE0D3K2      502971        Beppu, Japan\n",
       "668   ZP00669TCBB6      363071  Seoul, South Korea\n",
       "669   ZP00669TCBB6     7016734  Seoul, South Korea\n",
       "670   ZP00669TCBB6     2736998  Seoul, South Korea\n",
       "\n",
       "[3331 rows x 3 columns]"
      ]
     },
     "execution_count": 593,
     "metadata": {},
     "output_type": "execute_result"
    }
   ],
   "source": [
    "df2_click.loc[df2_click['reference_y'] > 2, ['user_id', 'reference_x', 'city']]"
   ]
  },
  {
   "cell_type": "code",
   "execution_count": 604,
   "metadata": {
    "Collapsed": "false"
   },
   "outputs": [],
   "source": [
    "idx2item = df2_click.loc[(df2_click['reference_y'] > 2) & (df2_click['city'] == 'Seoul, South Korea'), ['reference_x', 'city']].drop_duplicates().reset_index(drop = True)['reference_x'].to_dict()"
   ]
  },
  {
   "cell_type": "code",
   "execution_count": 623,
   "metadata": {
    "Collapsed": "false"
   },
   "outputs": [
    {
     "data": {
      "text/plain": [
       "620"
      ]
     },
     "execution_count": 623,
     "metadata": {},
     "output_type": "execute_result"
    }
   ],
   "source": [
    "max(idx2item.keys())"
   ]
  },
  {
   "cell_type": "code",
   "execution_count": 609,
   "metadata": {
    "Collapsed": "false"
   },
   "outputs": [],
   "source": [
    "t = df2_click.loc[(df2_click['reference_y'] > 2) & (df2_click['city'] != 'Seoul, South Korea'), ['reference_x', 'city']].drop_duplicates()['reference_x']"
   ]
  },
  {
   "cell_type": "code",
   "execution_count": 617,
   "metadata": {
    "Collapsed": "false"
   },
   "outputs": [
    {
     "data": {
      "text/plain": [
       "543"
      ]
     },
     "execution_count": 617,
     "metadata": {},
     "output_type": "execute_result"
    }
   ],
   "source": [
    "len(t)"
   ]
  },
  {
   "cell_type": "code",
   "execution_count": 621,
   "metadata": {
    "Collapsed": "false"
   },
   "outputs": [],
   "source": [
    "# 서울 호텔은 ~620까지, 621~1163 까지 다른나라 호텔\n",
    "t.index = np.arange(621, 621+543)"
   ]
  },
  {
   "cell_type": "code",
   "execution_count": 628,
   "metadata": {
    "Collapsed": "false"
   },
   "outputs": [],
   "source": [
    "idx2item.update(t)"
   ]
  },
  {
   "cell_type": "code",
   "execution_count": 664,
   "metadata": {
    "Collapsed": "false"
   },
   "outputs": [],
   "source": [
    "final = df2_click.loc[df2_click['reference_y'] > 2, ['user_id', 'reference_x']]"
   ]
  },
  {
   "cell_type": "code",
   "execution_count": 639,
   "metadata": {
    "Collapsed": "false"
   },
   "outputs": [],
   "source": [
    "idx2user = final['user_id'].drop_duplicates().reset_index(drop = True).to_dict()"
   ]
  },
  {
   "cell_type": "code",
   "execution_count": 648,
   "metadata": {
    "Collapsed": "false"
   },
   "outputs": [],
   "source": [
    "user2idx = {q : p for p,q in idx2user.items()}"
   ]
  },
  {
   "cell_type": "code",
   "execution_count": 659,
   "metadata": {
    "Collapsed": "false"
   },
   "outputs": [
    {
     "data": {
      "text/html": [
       "<div>\n",
       "<style scoped>\n",
       "    .dataframe tbody tr th:only-of-type {\n",
       "        vertical-align: middle;\n",
       "    }\n",
       "\n",
       "    .dataframe tbody tr th {\n",
       "        vertical-align: top;\n",
       "    }\n",
       "\n",
       "    .dataframe thead th {\n",
       "        text-align: right;\n",
       "    }\n",
       "</style>\n",
       "<table border=\"1\" class=\"dataframe\">\n",
       "  <thead>\n",
       "    <tr style=\"text-align: right;\">\n",
       "      <th></th>\n",
       "      <th>user_id</th>\n",
       "      <th>reference_x</th>\n",
       "    </tr>\n",
       "  </thead>\n",
       "  <tbody>\n",
       "    <tr>\n",
       "      <th>2813</th>\n",
       "      <td>024L2YJV0SRX</td>\n",
       "      <td>2802232</td>\n",
       "    </tr>\n",
       "    <tr>\n",
       "      <th>2814</th>\n",
       "      <td>024L2YJV0SRX</td>\n",
       "      <td>155989</td>\n",
       "    </tr>\n",
       "    <tr>\n",
       "      <th>2815</th>\n",
       "      <td>024L2YJV0SRX</td>\n",
       "      <td>3132376</td>\n",
       "    </tr>\n",
       "    <tr>\n",
       "      <th>2816</th>\n",
       "      <td>024L2YJV0SRX</td>\n",
       "      <td>844336</td>\n",
       "    </tr>\n",
       "    <tr>\n",
       "      <th>2817</th>\n",
       "      <td>024L2YJV0SRX</td>\n",
       "      <td>363096</td>\n",
       "    </tr>\n",
       "    <tr>\n",
       "      <th>...</th>\n",
       "      <td>...</td>\n",
       "      <td>...</td>\n",
       "    </tr>\n",
       "    <tr>\n",
       "      <th>3374</th>\n",
       "      <td>ZOPTENE0D3K2</td>\n",
       "      <td>103493</td>\n",
       "    </tr>\n",
       "    <tr>\n",
       "      <th>3375</th>\n",
       "      <td>ZOPTENE0D3K2</td>\n",
       "      <td>502971</td>\n",
       "    </tr>\n",
       "    <tr>\n",
       "      <th>668</th>\n",
       "      <td>ZP00669TCBB6</td>\n",
       "      <td>363071</td>\n",
       "    </tr>\n",
       "    <tr>\n",
       "      <th>669</th>\n",
       "      <td>ZP00669TCBB6</td>\n",
       "      <td>7016734</td>\n",
       "    </tr>\n",
       "    <tr>\n",
       "      <th>670</th>\n",
       "      <td>ZP00669TCBB6</td>\n",
       "      <td>2736998</td>\n",
       "    </tr>\n",
       "  </tbody>\n",
       "</table>\n",
       "<p>3331 rows × 2 columns</p>\n",
       "</div>"
      ],
      "text/plain": [
       "           user_id reference_x\n",
       "2813  024L2YJV0SRX     2802232\n",
       "2814  024L2YJV0SRX      155989\n",
       "2815  024L2YJV0SRX     3132376\n",
       "2816  024L2YJV0SRX      844336\n",
       "2817  024L2YJV0SRX      363096\n",
       "...            ...         ...\n",
       "3374  ZOPTENE0D3K2      103493\n",
       "3375  ZOPTENE0D3K2      502971\n",
       "668   ZP00669TCBB6      363071\n",
       "669   ZP00669TCBB6     7016734\n",
       "670   ZP00669TCBB6     2736998\n",
       "\n",
       "[3331 rows x 2 columns]"
      ]
     },
     "execution_count": 659,
     "metadata": {},
     "output_type": "execute_result"
    }
   ],
   "source": [
    "final"
   ]
  },
  {
   "cell_type": "code",
   "execution_count": 666,
   "metadata": {
    "Collapsed": "false"
   },
   "outputs": [],
   "source": [
    "final = (final.merge(pd.json_normalize(user2idx).T.reset_index(), left_on = 'user_id', right_on = 'index', how = 'left')\n",
    "         .merge(pd.json_normalize(idx2item).T.reset_index(), left_on = 'reference_x', right_on = 0, how = 'left'))"
   ]
  },
  {
   "cell_type": "code",
   "execution_count": 669,
   "metadata": {
    "Collapsed": "false"
   },
   "outputs": [],
   "source": [
    "final[['0_x', 'index_y']].to_csv('./test.txt', header = None, index = False)"
   ]
  },
  {
   "cell_type": "markdown",
   "metadata": {
    "Collapsed": "false"
   },
   "source": [
    "# 모든 세션 고려하되, 출력은 서울 호텔로"
   ]
  },
  {
   "cell_type": "code",
   "execution_count": 673,
   "metadata": {
    "Collapsed": "false"
   },
   "outputs": [
    {
     "data": {
      "text/plain": [
       "(948041, 434873)"
      ]
     },
     "execution_count": 673,
     "metadata": {},
     "output_type": "execute_result"
    }
   ],
   "source": [
    "# 전체데이터에서 user는 94만명\n",
    "# 전체데이터에서 item은 43만개\n",
    "log_all['user_id'].nunique(), log_all['reference'].nunique()"
   ]
  },
  {
   "cell_type": "code",
   "execution_count": 690,
   "metadata": {
    "Collapsed": "false"
   },
   "outputs": [],
   "source": [
    "# item2idx 만들기\n",
    "# 서울 호텔은 따로 빼기\n",
    "seoul_item = log_all.loc[log_all['city'] == 'Seoul, South Korea', 'reference'].drop_duplicates().reset_index(drop = True).reset_index()"
   ]
  },
  {
   "cell_type": "code",
   "execution_count": 686,
   "metadata": {
    "Collapsed": "false"
   },
   "outputs": [],
   "source": [
    "item_meta['item_id'] = item_meta['item_id'].astype(str)"
   ]
  },
  {
   "cell_type": "code",
   "execution_count": 688,
   "metadata": {
    "Collapsed": "false"
   },
   "outputs": [
    {
     "data": {
      "text/plain": [
       "(927142, 2)"
      ]
     },
     "execution_count": 688,
     "metadata": {},
     "output_type": "execute_result"
    }
   ],
   "source": [
    "item_meta.shape"
   ]
  },
  {
   "cell_type": "code",
   "execution_count": 692,
   "metadata": {
    "Collapsed": "false"
   },
   "outputs": [],
   "source": [
    "item_meta = item_meta.merge(seoul_item, left_on = 'item_id', right_on = 'reference', how = 'left')"
   ]
  },
  {
   "cell_type": "code",
   "execution_count": 697,
   "metadata": {
    "Collapsed": "false"
   },
   "outputs": [],
   "source": [
    "item_meta.loc[item_meta['index'].notnull(), 'index'] = 1"
   ]
  },
  {
   "cell_type": "code",
   "execution_count": 699,
   "metadata": {
    "Collapsed": "false"
   },
   "outputs": [],
   "source": [
    "item_meta = item_meta.drop('reference', axis = 1).rename(columns = {'index' : 'isvalid'})"
   ]
  },
  {
   "cell_type": "code",
   "execution_count": 774,
   "metadata": {
    "Collapsed": "false"
   },
   "outputs": [
    {
     "data": {
      "text/plain": [
       "992.0"
      ]
     },
     "execution_count": 774,
     "metadata": {},
     "output_type": "execute_result"
    }
   ],
   "source": [
    "# 서울 호텔 개수 0~991 까지\n",
    "item_meta.sort_values('isvalid').reset_index(drop = True).reset_index()['isvalid'].sum()"
   ]
  },
  {
   "cell_type": "code",
   "execution_count": 705,
   "metadata": {
    "Collapsed": "false"
   },
   "outputs": [],
   "source": [
    "item2idx = item_meta.sort_values('isvalid').reset_index(drop = True).reset_index()[['index', 'item_id']]"
   ]
  },
  {
   "cell_type": "code",
   "execution_count": 713,
   "metadata": {
    "Collapsed": "false"
   },
   "outputs": [],
   "source": [
    "df = log_all.loc[log_all['action_type'] == 'clickout item', ['user_id', 'reference', 'timestamp']].reset_index(drop = True).sort_values(['user_id', 'timestamp'])"
   ]
  },
  {
   "cell_type": "code",
   "execution_count": 716,
   "metadata": {
    "Collapsed": "false"
   },
   "outputs": [],
   "source": [
    "# reference가 비어있는 row -> test로 사용할 예정\n",
    "test = df.loc[df['reference'].isnull()]"
   ]
  },
  {
   "cell_type": "code",
   "execution_count": 717,
   "metadata": {
    "Collapsed": "false"
   },
   "outputs": [],
   "source": [
    "df = df.loc[df['reference'].notnull()]"
   ]
  },
  {
   "cell_type": "code",
   "execution_count": 729,
   "metadata": {
    "Collapsed": "false"
   },
   "outputs": [
    {
     "data": {
      "text/plain": [
       "(1861792, 3)"
      ]
     },
     "execution_count": 729,
     "metadata": {},
     "output_type": "execute_result"
    }
   ],
   "source": [
    "df.shape"
   ]
  },
  {
   "cell_type": "code",
   "execution_count": 730,
   "metadata": {
    "Collapsed": "false"
   },
   "outputs": [],
   "source": [
    "df = df.merge(df.groupby('user_id')['reference'].count().reset_index(), on = 'user_id', how = 'left')"
   ]
  },
  {
   "cell_type": "code",
   "execution_count": 734,
   "metadata": {
    "Collapsed": "false"
   },
   "outputs": [],
   "source": [
    "df = df.loc[df['reference_y'] > 2][['user_id', 'reference_x']]"
   ]
  },
  {
   "cell_type": "code",
   "execution_count": 785,
   "metadata": {
    "Collapsed": "false"
   },
   "outputs": [],
   "source": [
    "df = df.merge(item2idx, left_on = 'reference_x', right_on = 'item_id', how = 'left')"
   ]
  },
  {
   "cell_type": "code",
   "execution_count": 786,
   "metadata": {
    "Collapsed": "false"
   },
   "outputs": [
    {
     "data": {
      "text/html": [
       "<div>\n",
       "<style scoped>\n",
       "    .dataframe tbody tr th:only-of-type {\n",
       "        vertical-align: middle;\n",
       "    }\n",
       "\n",
       "    .dataframe tbody tr th {\n",
       "        vertical-align: top;\n",
       "    }\n",
       "\n",
       "    .dataframe thead th {\n",
       "        text-align: right;\n",
       "    }\n",
       "</style>\n",
       "<table border=\"1\" class=\"dataframe\">\n",
       "  <thead>\n",
       "    <tr style=\"text-align: right;\">\n",
       "      <th></th>\n",
       "      <th>user_id</th>\n",
       "      <th>reference_x</th>\n",
       "      <th>index</th>\n",
       "      <th>item_id</th>\n",
       "    </tr>\n",
       "  </thead>\n",
       "  <tbody>\n",
       "    <tr>\n",
       "      <th>0</th>\n",
       "      <td>0001VQMGUI65</td>\n",
       "      <td>3133074</td>\n",
       "      <td>100442.0</td>\n",
       "      <td>3133074</td>\n",
       "    </tr>\n",
       "    <tr>\n",
       "      <th>1</th>\n",
       "      <td>0001VQMGUI65</td>\n",
       "      <td>477811</td>\n",
       "      <td>681438.0</td>\n",
       "      <td>477811</td>\n",
       "    </tr>\n",
       "    <tr>\n",
       "      <th>2</th>\n",
       "      <td>0001VQMGUI65</td>\n",
       "      <td>3133074</td>\n",
       "      <td>100442.0</td>\n",
       "      <td>3133074</td>\n",
       "    </tr>\n",
       "    <tr>\n",
       "      <th>3</th>\n",
       "      <td>0001VQMGUI65</td>\n",
       "      <td>2019467</td>\n",
       "      <td>276235.0</td>\n",
       "      <td>2019467</td>\n",
       "    </tr>\n",
       "    <tr>\n",
       "      <th>4</th>\n",
       "      <td>0001VQMGUI65</td>\n",
       "      <td>950829</td>\n",
       "      <td>773818.0</td>\n",
       "      <td>950829</td>\n",
       "    </tr>\n",
       "    <tr>\n",
       "      <th>...</th>\n",
       "      <td>...</td>\n",
       "      <td>...</td>\n",
       "      <td>...</td>\n",
       "      <td>...</td>\n",
       "    </tr>\n",
       "    <tr>\n",
       "      <th>1090049</th>\n",
       "      <td>ZZZSKOPW9P49</td>\n",
       "      <td>67108</td>\n",
       "      <td>66529.0</td>\n",
       "      <td>67108</td>\n",
       "    </tr>\n",
       "    <tr>\n",
       "      <th>1090050</th>\n",
       "      <td>ZZZSKOPW9P49</td>\n",
       "      <td>5083332</td>\n",
       "      <td>493905.0</td>\n",
       "      <td>5083332</td>\n",
       "    </tr>\n",
       "    <tr>\n",
       "      <th>1090051</th>\n",
       "      <td>ZZZSKOPW9P49</td>\n",
       "      <td>9094160</td>\n",
       "      <td>426647.0</td>\n",
       "      <td>9094160</td>\n",
       "    </tr>\n",
       "    <tr>\n",
       "      <th>1090052</th>\n",
       "      <td>ZZZSKOPW9P49</td>\n",
       "      <td>915899</td>\n",
       "      <td>391399.0</td>\n",
       "      <td>915899</td>\n",
       "    </tr>\n",
       "    <tr>\n",
       "      <th>1090053</th>\n",
       "      <td>ZZZSKOPW9P49</td>\n",
       "      <td>9094160</td>\n",
       "      <td>426647.0</td>\n",
       "      <td>9094160</td>\n",
       "    </tr>\n",
       "  </tbody>\n",
       "</table>\n",
       "<p>1090054 rows × 4 columns</p>\n",
       "</div>"
      ],
      "text/plain": [
       "              user_id reference_x     index  item_id\n",
       "0        0001VQMGUI65     3133074  100442.0  3133074\n",
       "1        0001VQMGUI65      477811  681438.0   477811\n",
       "2        0001VQMGUI65     3133074  100442.0  3133074\n",
       "3        0001VQMGUI65     2019467  276235.0  2019467\n",
       "4        0001VQMGUI65      950829  773818.0   950829\n",
       "...               ...         ...       ...      ...\n",
       "1090049  ZZZSKOPW9P49       67108   66529.0    67108\n",
       "1090050  ZZZSKOPW9P49     5083332  493905.0  5083332\n",
       "1090051  ZZZSKOPW9P49     9094160  426647.0  9094160\n",
       "1090052  ZZZSKOPW9P49      915899  391399.0   915899\n",
       "1090053  ZZZSKOPW9P49     9094160  426647.0  9094160\n",
       "\n",
       "[1090054 rows x 4 columns]"
      ]
     },
     "execution_count": 786,
     "metadata": {},
     "output_type": "execute_result"
    }
   ],
   "source": [
    "df"
   ]
  },
  {
   "cell_type": "code",
   "execution_count": 788,
   "metadata": {
    "Collapsed": "false"
   },
   "outputs": [],
   "source": [
    "df = df.loc[df['index'].notnull()]"
   ]
  },
  {
   "cell_type": "code",
   "execution_count": 790,
   "metadata": {
    "Collapsed": "false"
   },
   "outputs": [],
   "source": [
    "user2idx = df['user_id'].drop_duplicates().reset_index(drop= True).reset_index()"
   ]
  },
  {
   "cell_type": "code",
   "execution_count": 791,
   "metadata": {
    "Collapsed": "false"
   },
   "outputs": [],
   "source": [
    "final = df.merge(user2idx, on = 'user_id', how = 'left')"
   ]
  },
  {
   "cell_type": "code",
   "execution_count": 792,
   "metadata": {
    "Collapsed": "false"
   },
   "outputs": [
    {
     "data": {
      "text/plain": [
       "(1089610, 5)"
      ]
     },
     "execution_count": 792,
     "metadata": {},
     "output_type": "execute_result"
    }
   ],
   "source": [
    "final.shape"
   ]
  },
  {
   "cell_type": "code",
   "execution_count": 796,
   "metadata": {
    "Collapsed": "false"
   },
   "outputs": [],
   "source": [
    "final = final[['index_y', 'index_x']]"
   ]
  },
  {
   "cell_type": "code",
   "execution_count": 797,
   "metadata": {
    "Collapsed": "false"
   },
   "outputs": [
    {
     "name": "stderr",
     "output_type": "stream",
     "text": [
      "/Users/jinseok/opt/anaconda3/lib/python3.7/site-packages/ipykernel_launcher.py:1: SettingWithCopyWarning: \n",
      "A value is trying to be set on a copy of a slice from a DataFrame.\n",
      "Try using .loc[row_indexer,col_indexer] = value instead\n",
      "\n",
      "See the caveats in the documentation: https://pandas.pydata.org/pandas-docs/stable/user_guide/indexing.html#returning-a-view-versus-a-copy\n",
      "  \"\"\"Entry point for launching an IPython kernel.\n"
     ]
    }
   ],
   "source": [
    "final['index_x'] = final['index_x'].astype(int)"
   ]
  },
  {
   "cell_type": "code",
   "execution_count": 800,
   "metadata": {
    "Collapsed": "false"
   },
   "outputs": [],
   "source": [
    "final.to_csv('./test_all.txt', header = None, index = False)"
   ]
  },
  {
   "cell_type": "code",
   "execution_count": 798,
   "metadata": {
    "Collapsed": "false"
   },
   "outputs": [
    {
     "data": {
      "text/html": [
       "<div>\n",
       "<style scoped>\n",
       "    .dataframe tbody tr th:only-of-type {\n",
       "        vertical-align: middle;\n",
       "    }\n",
       "\n",
       "    .dataframe tbody tr th {\n",
       "        vertical-align: top;\n",
       "    }\n",
       "\n",
       "    .dataframe thead th {\n",
       "        text-align: right;\n",
       "    }\n",
       "</style>\n",
       "<table border=\"1\" class=\"dataframe\">\n",
       "  <thead>\n",
       "    <tr style=\"text-align: right;\">\n",
       "      <th></th>\n",
       "      <th>index_y</th>\n",
       "      <th>index_x</th>\n",
       "    </tr>\n",
       "  </thead>\n",
       "  <tbody>\n",
       "    <tr>\n",
       "      <th>0</th>\n",
       "      <td>0</td>\n",
       "      <td>100442</td>\n",
       "    </tr>\n",
       "    <tr>\n",
       "      <th>1</th>\n",
       "      <td>0</td>\n",
       "      <td>681438</td>\n",
       "    </tr>\n",
       "    <tr>\n",
       "      <th>2</th>\n",
       "      <td>0</td>\n",
       "      <td>100442</td>\n",
       "    </tr>\n",
       "    <tr>\n",
       "      <th>3</th>\n",
       "      <td>0</td>\n",
       "      <td>276235</td>\n",
       "    </tr>\n",
       "    <tr>\n",
       "      <th>4</th>\n",
       "      <td>0</td>\n",
       "      <td>773818</td>\n",
       "    </tr>\n",
       "    <tr>\n",
       "      <th>...</th>\n",
       "      <td>...</td>\n",
       "      <td>...</td>\n",
       "    </tr>\n",
       "    <tr>\n",
       "      <th>1089605</th>\n",
       "      <td>199579</td>\n",
       "      <td>66529</td>\n",
       "    </tr>\n",
       "    <tr>\n",
       "      <th>1089606</th>\n",
       "      <td>199579</td>\n",
       "      <td>493905</td>\n",
       "    </tr>\n",
       "    <tr>\n",
       "      <th>1089607</th>\n",
       "      <td>199579</td>\n",
       "      <td>426647</td>\n",
       "    </tr>\n",
       "    <tr>\n",
       "      <th>1089608</th>\n",
       "      <td>199579</td>\n",
       "      <td>391399</td>\n",
       "    </tr>\n",
       "    <tr>\n",
       "      <th>1089609</th>\n",
       "      <td>199579</td>\n",
       "      <td>426647</td>\n",
       "    </tr>\n",
       "  </tbody>\n",
       "</table>\n",
       "<p>1089610 rows × 2 columns</p>\n",
       "</div>"
      ],
      "text/plain": [
       "         index_y  index_x\n",
       "0              0   100442\n",
       "1              0   681438\n",
       "2              0   100442\n",
       "3              0   276235\n",
       "4              0   773818\n",
       "...          ...      ...\n",
       "1089605   199579    66529\n",
       "1089606   199579   493905\n",
       "1089607   199579   426647\n",
       "1089608   199579   391399\n",
       "1089609   199579   426647\n",
       "\n",
       "[1089610 rows x 2 columns]"
      ]
     },
     "execution_count": 798,
     "metadata": {},
     "output_type": "execute_result"
    }
   ],
   "source": [
    "final"
   ]
  },
  {
   "cell_type": "code",
   "execution_count": 799,
   "metadata": {
    "Collapsed": "false"
   },
   "outputs": [
    {
     "data": {
      "text/plain": [
       "(220098, 199580)"
      ]
     },
     "execution_count": 799,
     "metadata": {},
     "output_type": "execute_result"
    }
   ],
   "source": [
    "final['index_x'].nunique(), final['index_y'].nunique()"
   ]
  },
  {
   "cell_type": "code",
   "execution_count": null,
   "metadata": {
    "Collapsed": "false"
   },
   "outputs": [],
   "source": []
  }
 ],
 "metadata": {
  "kernelspec": {
   "display_name": "Python 3",
   "language": "python",
   "name": "python3"
  },
  "language_info": {
   "codemirror_mode": {
    "name": "ipython",
    "version": 3
   },
   "file_extension": ".py",
   "mimetype": "text/x-python",
   "name": "python",
   "nbconvert_exporter": "python",
   "pygments_lexer": "ipython3",
   "version": "3.7.6"
  }
 },
 "nbformat": 4,
 "nbformat_minor": 4
}
