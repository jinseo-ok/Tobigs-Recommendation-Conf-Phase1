{
 "cells": [
  {
   "cell_type": "code",
   "execution_count": 37,
   "metadata": {
    "Collapsed": "false"
   },
   "outputs": [],
   "source": [
    "import os\n",
    "import json\n",
    "import requests\n",
    "from tqdm import tqdm"
   ]
  },
  {
   "cell_type": "code",
   "execution_count": 3,
   "metadata": {
    "Collapsed": "false"
   },
   "outputs": [],
   "source": [
    "with open(os.path.join('..', 'data', 'proc', 'seoul_hotel_info.json'), 'r') as f:\n",
    "    f = json.load(f)"
   ]
  },
  {
   "cell_type": "code",
   "execution_count": 5,
   "metadata": {
    "Collapsed": "false"
   },
   "outputs": [],
   "source": [
    "f = json.loads(f)"
   ]
  },
  {
   "cell_type": "code",
   "execution_count": 74,
   "metadata": {
    "Collapsed": "false"
   },
   "outputs": [
    {
     "name": "stdin",
     "output_type": "stream",
     "text": [
      " 10091602,  4638538,   155465,  3501452,   363071,   377811,         5712036,  3954788,  6477218,   155372,  3485578,  1402992,         2628030,   390361,  2855981,  1320558,  3767064,  3136052,         3171546,  4538760,  2397652,  9141056,   475276,  4774512,         2736998\n"
     ]
    }
   ],
   "source": [
    "find_hotel = list(map(lambda x : x.strip(), input().split(',')))"
   ]
  },
  {
   "cell_type": "code",
   "execution_count": 75,
   "metadata": {
    "Collapsed": "false"
   },
   "outputs": [
    {
     "data": {
      "text/plain": [
       "25"
      ]
     },
     "execution_count": 75,
     "metadata": {},
     "output_type": "execute_result"
    }
   ],
   "source": [
    "len(find_hotel)"
   ]
  },
  {
   "cell_type": "code",
   "execution_count": 76,
   "metadata": {
    "Collapsed": "false"
   },
   "outputs": [
    {
     "data": {
      "text/plain": [
       "['10091602',\n",
       " '4638538',\n",
       " '155465',\n",
       " '3501452',\n",
       " '363071',\n",
       " '377811',\n",
       " '5712036',\n",
       " '3954788',\n",
       " '6477218',\n",
       " '155372',\n",
       " '3485578',\n",
       " '1402992',\n",
       " '2628030',\n",
       " '390361',\n",
       " '2855981',\n",
       " '1320558',\n",
       " '3767064',\n",
       " '3136052',\n",
       " '3171546',\n",
       " '4538760',\n",
       " '2397652',\n",
       " '9141056',\n",
       " '475276',\n",
       " '4774512',\n",
       " '2736998']"
      ]
     },
     "execution_count": 76,
     "metadata": {},
     "output_type": "execute_result"
    }
   ],
   "source": [
    "find_hotel"
   ]
  },
  {
   "cell_type": "code",
   "execution_count": 38,
   "metadata": {
    "Collapsed": "false"
   },
   "outputs": [
    {
     "name": "stderr",
     "output_type": "stream",
     "text": [
      "100%|██████████| 16/16 [00:00<00:00, 50006.61it/s]\n"
     ]
    }
   ],
   "source": [
    "images = {}\n",
    "for idx in tqdm(find_hotel):\n",
    "    temp = f[idx]\n",
    "    imgs = temp['images']\n",
    "    urls = []\n",
    "    for img in imgs:\n",
    "        url = img['urls']['preview'][2:]\n",
    "        urls.append(url)\n",
    "    images[idx] = urls"
   ]
  },
  {
   "cell_type": "code",
   "execution_count": 40,
   "metadata": {
    "Collapsed": "false"
   },
   "outputs": [
    {
     "data": {
      "text/plain": [
       "16"
      ]
     },
     "execution_count": 40,
     "metadata": {},
     "output_type": "execute_result"
    }
   ],
   "source": [
    "len(find_hotel)"
   ]
  },
  {
   "cell_type": "code",
   "execution_count": 46,
   "metadata": {
    "Collapsed": "false"
   },
   "outputs": [],
   "source": [
    "url = 'https://www.trivago.co.kr/api/v1/accommodation/3485578/images-web46271.json'"
   ]
  },
  {
   "cell_type": "code",
   "execution_count": 50,
   "metadata": {
    "Collapsed": "false"
   },
   "outputs": [],
   "source": [
    "header = {\n",
    "    'user-agent': 'Mozilla/5.0 (Macintosh; Intel Mac OS X 10_15_5) AppleWebKit/537.36 (KHTML, like Gecko) Chrome/83.0.4103.116 Safari/537.36'\n",
    "}"
   ]
  },
  {
   "cell_type": "code",
   "execution_count": 51,
   "metadata": {
    "Collapsed": "false"
   },
   "outputs": [],
   "source": [
    "response = requests.get(url, headers = header)"
   ]
  },
  {
   "cell_type": "code",
   "execution_count": 66,
   "metadata": {
    "Collapsed": "false"
   },
   "outputs": [
    {
     "data": {
      "text/plain": [
       "['14159911',\n",
       " '8587847',\n",
       " '306130',\n",
       " '4235369',\n",
       " '306139',\n",
       " '455538',\n",
       " '9597806',\n",
       " '155372',\n",
       " '3485578',\n",
       " '1402992',\n",
       " '2628030',\n",
       " '390361',\n",
       " '2855981',\n",
       " '1320558',\n",
       " '3767064',\n",
       " '3136052',\n",
       " '3171546',\n",
       " '4538760',\n",
       " '2397652',\n",
       " '9141056',\n",
       " '475276',\n",
       " '4774512',\n",
       " '2736998       8076702',\n",
       " '11946590',\n",
       " '']"
      ]
     },
     "execution_count": 66,
     "metadata": {},
     "output_type": "execute_result"
    }
   ],
   "source": [
    "find_hotel"
   ]
  },
  {
   "cell_type": "code",
   "execution_count": 82,
   "metadata": {
    "Collapsed": "false"
   },
   "outputs": [
    {
     "name": "stderr",
     "output_type": "stream",
     "text": [
      "100%|██████████| 25/25 [00:09<00:00,  2.53it/s]\n"
     ]
    }
   ],
   "source": [
    "image_dict = {}\n",
    "for idx in tqdm(find_hotel):\n",
    "    url = f'https://www.trivago.co.kr/api/v1/accommodation/{idx}/images-web46271.json'\n",
    "    response = requests.get(url, headers = header) \n",
    "    data = response.json()\n",
    "    urls = []\n",
    "    for item in data['images']:\n",
    "        urls.append(item['url'][2:])\n",
    "    image_dict[idx] = urls"
   ]
  },
  {
   "cell_type": "code",
   "execution_count": 78,
   "metadata": {
    "Collapsed": "false"
   },
   "outputs": [
    {
     "data": {
      "text/plain": [
       "dict_keys(['10091602', '4638538', '155465', '3501452', '363071', '377811', '5712036', '3954788', '6477218', '155372', '3485578', '1402992', '2628030', '390361', '2855981', '1320558', '3767064', '3136052', '3171546', '4538760', '2397652', '9141056', '475276', '4774512', '2736998'])"
      ]
     },
     "execution_count": 78,
     "metadata": {},
     "output_type": "execute_result"
    }
   ],
   "source": [
    "image_dict.keys()"
   ]
  },
  {
   "cell_type": "code",
   "execution_count": 87,
   "metadata": {
    "Collapsed": "false"
   },
   "outputs": [],
   "source": [
    "with open(os.path.join('..', 'data', 'proc', 'img_dict.json'), 'w') as f:\n",
    "    json.dump(image_dict, f)"
   ]
  },
  {
   "cell_type": "code",
   "execution_count": null,
   "metadata": {
    "Collapsed": "false"
   },
   "outputs": [],
   "source": []
  }
 ],
 "metadata": {
  "kernelspec": {
   "display_name": "Python 3",
   "language": "python",
   "name": "python3"
  },
  "language_info": {
   "codemirror_mode": {
    "name": "ipython",
    "version": 3
   },
   "file_extension": ".py",
   "mimetype": "text/x-python",
   "name": "python",
   "nbconvert_exporter": "python",
   "pygments_lexer": "ipython3",
   "version": "3.7.6"
  }
 },
 "nbformat": 4,
 "nbformat_minor": 4
}
